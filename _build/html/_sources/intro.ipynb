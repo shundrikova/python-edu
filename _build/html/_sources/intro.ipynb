{
 "cells": [
  {
   "cell_type": "markdown",
   "id": "valuable-agent",
   "metadata": {},
   "source": [
    "# Intro"
   ]
  },
  {
   "cell_type": "markdown",
   "id": "arctic-disposal",
   "metadata": {},
   "source": [
    "## Комментирование"
   ]
  },
  {
   "cell_type": "markdown",
   "id": "martial-actress",
   "metadata": {},
   "source": [
    "Комментарии - это фрагменты текста, которые находятся в коде, но игнорируются интерпретатором Python при выполнении кода. Можно использовать комментарии для описания кода, чтобы вы и другие разработчики могли быстро понять, что делает код или почему код написан определенным образом. Чтобы написать комментарий на Python, просто добавьте решетку (#) перед текстом комментария:"
   ]
  },
  {
   "cell_type": "code",
   "execution_count": 1,
   "id": "criminal-technology",
   "metadata": {},
   "outputs": [],
   "source": [
    "# Это комментарий в отдельной строке"
   ]
  },
  {
   "cell_type": "markdown",
   "id": "revolutionary-daniel",
   "metadata": {},
   "source": [
    "Интерпретатор Python игнорирует текст после решетки и до конца строки. Вы также можете добавить в свой код встроенные комментарии. Другими словами, вы можете объединить выражение или оператор Python с комментарием в одной строке, учитывая, что комментарий занимает последнюю часть строки:"
   ]
  },
  {
   "cell_type": "code",
   "execution_count": 2,
   "id": "educated-broad",
   "metadata": {},
   "outputs": [],
   "source": [
    "var = \"Привет, мир!\" # Это встроенный комментарий"
   ]
  },
  {
   "cell_type": "markdown",
   "id": "suburban-lambda",
   "metadata": {},
   "source": [
    "Комментарии должны быть краткими и по существу. PEP 8 рекомендует оставлять комментарии длиной не более 72 символов. Если ваш комментарий приближается к этой длине или превышает ее, вы можете разместить его на нескольких строках:"
   ]
  },
  {
   "cell_type": "code",
   "execution_count": 3,
   "id": "refined-velvet",
   "metadata": {},
   "outputs": [],
   "source": [
    "# Это длинный комментарий, требующий\n",
    "# две строки для завершения."
   ]
  },
  {
   "cell_type": "markdown",
   "id": "ongoing-audience",
   "metadata": {},
   "source": [
    "Если вам нужно больше места для данного комментария, вы можете использовать несколько строк с решеткой на каждой."
   ]
  },
  {
   "cell_type": "markdown",
   "id": "productive-crown",
   "metadata": {},
   "source": [
    "Строки документации (**docstrings**) служат той же цели, что и обычные комментарии, поскольку они предназначены для объяснения кода. Однако они более конкретны и имеют другой синтаксис. Они создаются путем помещения многострочной строки, содержащей объяснение функции, под ее первой строкой:"
   ]
  },
  {
   "cell_type": "code",
   "execution_count": 4,
   "id": "excessive-fence",
   "metadata": {},
   "outputs": [
    {
     "name": "stdout",
     "output_type": "stream",
     "text": [
      "spam!\n"
     ]
    }
   ],
   "source": [
    "def shout(word):\n",
    "    \"\"\"\n",
    "    Печатает слово с \n",
    "    восклицательным знаком в конце\n",
    "    \"\"\"\n",
    "    print(word + \"!\")\n",
    "\n",
    "shout(\"spam\")"
   ]
  },
  {
   "cell_type": "markdown",
   "id": "imperial-gross",
   "metadata": {},
   "source": [
    "## Переменные"
   ]
  },
  {
   "cell_type": "markdown",
   "id": "weird-demonstration",
   "metadata": {},
   "source": [
    "В Питоне переменные - это имена, прикрепленные к определенному объекту. Они содержат ссылку или указатель на адрес памяти, по которому хранится объект. После того, как переменной назначен объект, вы можете получить доступ к объекту, используя имя переменной.\n",
    "Вам необходимо заранее определить свои переменные. Вот синтаксис:"
   ]
  },
  {
   "cell_type": "code",
   "execution_count": 5,
   "id": "transsexual-delaware",
   "metadata": {},
   "outputs": [
    {
     "ename": "NameError",
     "evalue": "name 'variable_value' is not defined",
     "output_type": "error",
     "traceback": [
      "\u001b[0;31m---------------------------------------------------------------------------\u001b[0m",
      "\u001b[0;31mNameError\u001b[0m                                 Traceback (most recent call last)",
      "\u001b[0;32m<ipython-input-5-e916d0a9b3b1>\u001b[0m in \u001b[0;36m<module>\u001b[0;34m\u001b[0m\n\u001b[0;32m----> 1\u001b[0;31m \u001b[0mvariable_name\u001b[0m \u001b[0;34m=\u001b[0m \u001b[0mvariable_value\u001b[0m\u001b[0;34m\u001b[0m\u001b[0;34m\u001b[0m\u001b[0m\n\u001b[0m",
      "\u001b[0;31mNameError\u001b[0m: name 'variable_value' is not defined"
     ]
    }
   ],
   "source": [
    "variable_name = variable_value"
   ]
  },
  {
   "cell_type": "markdown",
   "id": "talented-printing",
   "metadata": {},
   "source": [
    "Вы должны использовать схему именования, которая сделает ваши переменные интуитивно понятными и удобно читаемыми. Имя переменной должно указывать на присвоенные ей значения."
   ]
  },
  {
   "cell_type": "markdown",
   "id": "accurate-sleeping",
   "metadata": {},
   "source": [
    "Иногда программисты используют короткие имена переменных, например x и y. Это совершенно подходящие имена в контексте математики, алгебры и так далее. В других контекстах вам следует избегать одно символьных имен и использовать что-то более наглядное. Таким образом, другие разработчики могут сделать обоснованное предположение о том, что содержат ваши переменные. При написании программ думайте о других, а также о себе в будущем."
   ]
  },
  {
   "cell_type": "markdown",
   "id": "naval-berlin",
   "metadata": {},
   "source": [
    "Вот несколько примеров допустимых и недопустимых имен переменных в Python:"
   ]
  },
  {
   "cell_type": "code",
   "execution_count": 6,
   "id": "tracked-browser",
   "metadata": {},
   "outputs": [
    {
     "data": {
      "text/plain": [
       "[1, 2, 3, 4, 5]"
      ]
     },
     "execution_count": 6,
     "metadata": {},
     "output_type": "execute_result"
    }
   ],
   "source": [
    "numbers = [1, 2, 3, 4, 5]\n",
    "numbers"
   ]
  },
  {
   "cell_type": "code",
   "execution_count": 7,
   "id": "ancient-apparatus",
   "metadata": {},
   "outputs": [
    {
     "data": {
      "text/plain": [
       "1"
      ]
     },
     "execution_count": 7,
     "metadata": {},
     "output_type": "execute_result"
    }
   ],
   "source": [
    "first_num = 1\n",
    "first_num"
   ]
  },
  {
   "cell_type": "code",
   "execution_count": 8,
   "id": "cultural-messenger",
   "metadata": {},
   "outputs": [
    {
     "ename": "SyntaxError",
     "evalue": "invalid syntax (<ipython-input-8-20ce1ddde2db>, line 1)",
     "output_type": "error",
     "traceback": [
      "\u001b[0;36m  File \u001b[0;32m\"<ipython-input-8-20ce1ddde2db>\"\u001b[0;36m, line \u001b[0;32m1\u001b[0m\n\u001b[0;31m    1rst_num = 1\u001b[0m\n\u001b[0m     ^\u001b[0m\n\u001b[0;31mSyntaxError\u001b[0m\u001b[0;31m:\u001b[0m invalid syntax\n"
     ]
    }
   ],
   "source": [
    "1rst_num = 1"
   ]
  },
  {
   "cell_type": "markdown",
   "id": "pursuant-grenada",
   "metadata": {},
   "source": [
    "Имена переменных могут быть любой длины и состоять из прописных и строчных букв (A-Z, a-z), цифр (0-9), а также символа подчеркивания (_). В общем, имена переменных должны быть буквенно-цифровыми, но учтите, что хотя имена переменных могут содержать цифры, их первый символ не может быть цифрой."
   ]
  },
  {
   "cell_type": "markdown",
   "id": "british-portfolio",
   "metadata": {},
   "source": [
    "```{admonition} Примечание\n",
    "Соглашение об именах lower_case_with_underscores, также известное как <b>snake_case</b>, обычно используется в Python.\n",
    "```"
   ]
  },
  {
   "cell_type": "markdown",
   "id": "extensive-phoenix",
   "metadata": {},
   "source": [
    "## Ключевые слова"
   ]
  },
  {
   "cell_type": "markdown",
   "id": "compound-investor",
   "metadata": {},
   "source": [
    "Как и в любом другом языке программирования, в Python есть набор специальных слов, которые являются частью его синтаксиса. Эти слова известны как ключевые слова. Чтобы получить полный список ключевых слов, доступных в вашей текущей установке Python, вы можете запустить следующий код в консоли:"
   ]
  },
  {
   "cell_type": "code",
   "execution_count": 9,
   "id": "changed-crawford",
   "metadata": {},
   "outputs": [
    {
     "name": "stdout",
     "output_type": "stream",
     "text": [
      "\n",
      "Here is a list of the Python keywords.  Enter any keyword to get more help.\n",
      "\n",
      "False               class               from                or\n",
      "None                continue            global              pass\n",
      "True                def                 if                  raise\n",
      "and                 del                 import              return\n",
      "as                  elif                in                  try\n",
      "assert              else                is                  while\n",
      "async               except              lambda              with\n",
      "await               finally             nonlocal            yield\n",
      "break               for                 not                 \n",
      "\n"
     ]
    }
   ],
   "source": [
    "help(\"keywords\")"
   ]
  },
  {
   "cell_type": "markdown",
   "id": "grave-lightweight",
   "metadata": {},
   "source": [
    "Каждое из этих ключевых слов играет роль в синтаксисе Python. Это зарезервированные слова, которые имеют определенные значения и цели в языке, поэтому вы не должны использовать их ни для чего, кроме этих конкретных целей. Например, вы не должны использовать их в качестве имен переменных в своем коде.\n",
    "\n",
    "Есть еще один способ получить доступ ко всему списку ключевых слов Python:"
   ]
  },
  {
   "cell_type": "code",
   "execution_count": 10,
   "id": "challenging-multiple",
   "metadata": {},
   "outputs": [
    {
     "data": {
      "text/plain": [
       "['False',\n",
       " 'None',\n",
       " 'True',\n",
       " 'and',\n",
       " 'as',\n",
       " 'assert',\n",
       " 'async',\n",
       " 'await',\n",
       " 'break',\n",
       " 'class',\n",
       " 'continue',\n",
       " 'def',\n",
       " 'del',\n",
       " 'elif',\n",
       " 'else',\n",
       " 'except',\n",
       " 'finally',\n",
       " 'for',\n",
       " 'from',\n",
       " 'global',\n",
       " 'if',\n",
       " 'import',\n",
       " 'in',\n",
       " 'is',\n",
       " 'lambda',\n",
       " 'nonlocal',\n",
       " 'not',\n",
       " 'or',\n",
       " 'pass',\n",
       " 'raise',\n",
       " 'return',\n",
       " 'try',\n",
       " 'while',\n",
       " 'with',\n",
       " 'yield']"
      ]
     },
     "execution_count": 10,
     "metadata": {},
     "output_type": "execute_result"
    }
   ],
   "source": [
    "import keyword\n",
    "keyword.kwlist"
   ]
  },
  {
   "cell_type": "markdown",
   "id": "antique-saying",
   "metadata": {},
   "source": [
    "**keyword** предоставляет набор функций, которые позволяют вам определить, является ли данная строка ключевым словом. Например, keyword.kwlist содержит список всех текущих ключевых слов в Python. Это удобно, когда вам нужно программно манипулировать ключевыми словами в ваших программах Python."
   ]
  },
  {
   "cell_type": "markdown",
   "id": "sublime-characteristic",
   "metadata": {},
   "source": [
    "## Ввод и вывод в консоль"
   ]
  },
  {
   "cell_type": "markdown",
   "id": "solved-blend",
   "metadata": {},
   "source": [
    "### Чтение ввода с клавиатуры"
   ]
  },
  {
   "cell_type": "markdown",
   "id": "blank-cleanup",
   "metadata": {},
   "source": [
    "Программам часто требуется получать данные от пользователя, обычно путем ввода с клавиатуры. Самый простой способ сделать это в Python - использовать `input()`."
   ]
  },
  {
   "cell_type": "markdown",
   "id": "recognized-junior",
   "metadata": {},
   "source": [
    "```Python\n",
    "input([<prompt>])  # Читает строку ввода с клавиатуры.\n",
    "```"
   ]
  },
  {
   "cell_type": "markdown",
   "id": "lonely-arabic",
   "metadata": {},
   "source": [
    "`input()` приостанавливает выполнение программы, чтобы пользователь мог ввести строку с клавиатуры. Как только пользователь нажимает клавишу Enter, все набранные символы считываются и возвращаются в виде строки:"
   ]
  },
  {
   "cell_type": "code",
   "execution_count": 11,
   "id": "planned-absorption",
   "metadata": {},
   "outputs": [
    {
     "name": "stdout",
     "output_type": "stream",
     "text": [
      "word\n"
     ]
    },
    {
     "data": {
      "text/plain": [
       "'word'"
      ]
     },
     "execution_count": 11,
     "metadata": {},
     "output_type": "execute_result"
    }
   ],
   "source": [
    "s = input()\n",
    "s"
   ]
  },
  {
   "cell_type": "markdown",
   "id": "enormous-balloon",
   "metadata": {},
   "source": [
    "Обратите внимание, что новая строка, генерируемая, когда пользователь нажимает клавишу Enter, не включается в возвращаемую строку."
   ]
  },
  {
   "cell_type": "markdown",
   "id": "ultimate-relay",
   "metadata": {},
   "source": [
    "Если вы включите необязательный аргумент `<prompt>`, `input()` отобразит его как приглашение пользователю перед приостановкой чтения ввода:"
   ]
  },
  {
   "cell_type": "code",
   "execution_count": null,
   "id": "affecting-application",
   "metadata": {},
   "outputs": [],
   "source": [
    "name = input('What is your name? ')\n",
    "name"
   ]
  },
  {
   "cell_type": "markdown",
   "id": "quiet-treasury",
   "metadata": {},
   "source": [
    "`input()` всегда возвращает строку. Если вам нужен числовой тип, вам нужно преобразовать строку в соответствующий тип с помощью встроенных функций `int()`, `float()` или `complex()`:"
   ]
  },
  {
   "cell_type": "code",
   "execution_count": 13,
   "id": "controlling-patient",
   "metadata": {},
   "outputs": [
    {
     "name": "stdout",
     "output_type": "stream",
     "text": [
      "Enter a number: 5\n"
     ]
    },
    {
     "ename": "TypeError",
     "evalue": "can only concatenate str (not \"int\") to str",
     "output_type": "error",
     "traceback": [
      "\u001b[0;31m---------------------------------------------------------------------------\u001b[0m",
      "\u001b[0;31mTypeError\u001b[0m                                 Traceback (most recent call last)",
      "\u001b[0;32m<ipython-input-13-35b5a12a8d74>\u001b[0m in \u001b[0;36m<module>\u001b[0;34m\u001b[0m\n\u001b[1;32m      1\u001b[0m \u001b[0mn\u001b[0m \u001b[0;34m=\u001b[0m \u001b[0minput\u001b[0m\u001b[0;34m(\u001b[0m\u001b[0;34m'Enter a number: '\u001b[0m\u001b[0;34m)\u001b[0m\u001b[0;34m\u001b[0m\u001b[0;34m\u001b[0m\u001b[0m\n\u001b[0;32m----> 2\u001b[0;31m \u001b[0mn\u001b[0m \u001b[0;34m+\u001b[0m \u001b[0;36m100\u001b[0m\u001b[0;34m\u001b[0m\u001b[0;34m\u001b[0m\u001b[0m\n\u001b[0m",
      "\u001b[0;31mTypeError\u001b[0m: can only concatenate str (not \"int\") to str"
     ]
    }
   ],
   "source": [
    "n = input('Enter a number: ')\n",
    "n + 100"
   ]
  },
  {
   "cell_type": "code",
   "execution_count": 14,
   "id": "dental-electric",
   "metadata": {},
   "outputs": [
    {
     "name": "stdout",
     "output_type": "stream",
     "text": [
      "Enter a number: 10\n"
     ]
    },
    {
     "data": {
      "text/plain": [
       "110"
      ]
     },
     "execution_count": 14,
     "metadata": {},
     "output_type": "execute_result"
    }
   ],
   "source": [
    "n = int(input('Enter a number: '))\n",
    "n + 100"
   ]
  },
  {
   "cell_type": "markdown",
   "id": "married-mapping",
   "metadata": {},
   "source": [
    "В приведенном выше примере выражение n + 100 в строке 2 недопустимо, потому что n - строка, а 100 - целое число. Строка 3 преобразует n в целое число, поэтому операция в строке 4 завершается успешно."
   ]
  },
  {
   "cell_type": "markdown",
   "id": "formed-aaron",
   "metadata": {},
   "source": [
    "### Запись вывода в консоль"
   ]
  },
  {
   "cell_type": "markdown",
   "id": "combined-humidity",
   "metadata": {},
   "source": [
    "Помимо получения данных от пользователя, программе также обычно необходимо предоставлять данные обратно пользователю. Можно отображать данные в консоли в Python с помощью `print()`."
   ]
  },
  {
   "cell_type": "markdown",
   "id": "animated-fusion",
   "metadata": {},
   "source": [
    "Чтобы вывести объекты в консоли, передайте их как список аргументов, разделенных запятыми, в `print()`."
   ]
  },
  {
   "cell_type": "markdown",
   "id": "excess-utilization",
   "metadata": {},
   "source": [
    "```Python\n",
    "print (<obj>, ..., <obj>)  # Отображает строковое представление каждого <obj> в консоли.\n",
    "```"
   ]
  },
  {
   "cell_type": "markdown",
   "id": "governing-interview",
   "metadata": {},
   "source": [
    "По умолчанию `print()` разделяет каждый объект одним пробелом и добавляет новую строку в конец вывода:"
   ]
  },
  {
   "cell_type": "code",
   "execution_count": 15,
   "id": "criminal-cornell",
   "metadata": {},
   "outputs": [
    {
     "name": "stdout",
     "output_type": "stream",
     "text": [
      "Name: Winston Smith\n"
     ]
    }
   ],
   "source": [
    "fname = 'Winston'\n",
    "lname = 'Smith'\n",
    "print('Name:', fname, lname)"
   ]
  },
  {
   "cell_type": "markdown",
   "id": "cathedral-dance",
   "metadata": {},
   "source": [
    "В качестве аргумента функции `print()` можно указать любой тип объекта. Если объект не является строкой, то `print()` преобразует его в соответствующее строковое представление, отображающее его:"
   ]
  },
  {
   "cell_type": "code",
   "execution_count": 16,
   "id": "indian-college",
   "metadata": {},
   "outputs": [
    {
     "name": "stdout",
     "output_type": "stream",
     "text": [
      "[1, 2, 3] -12 {'foo': 1, 'bar': 2} <built-in function len>\n"
     ]
    }
   ],
   "source": [
    "a = [1, 2, 3]\n",
    "type(a)\n",
    "\n",
    "b = -12\n",
    "type(b)\n",
    "\n",
    "d = {'foo': 1, 'bar': 2}\n",
    "type(d)\n",
    "\n",
    "type(len)\n",
    "\n",
    "print(a, b, d, len)"
   ]
  },
  {
   "cell_type": "markdown",
   "id": "advisory-platform",
   "metadata": {},
   "source": [
    "Как видите, даже сложные типы, такие как списки, словари и функции, могут отображаться на консоли с помощью `print()`."
   ]
  },
  {
   "cell_type": "markdown",
   "id": "classified-machine",
   "metadata": {},
   "source": [
    "### Аргументы print()"
   ]
  },
  {
   "cell_type": "markdown",
   "id": "eastern-christianity",
   "metadata": {},
   "source": [
    "`print()` принимает несколько дополнительных аргументов, которые обеспечивают контроль над форматом вывода. Каждый из них представляет собой особый тип аргумента, называемый аргументом ключевого слова."
   ]
  },
  {
   "cell_type": "markdown",
   "id": "pacific-vinyl",
   "metadata": {},
   "source": [
    "* Аргументы ключевого слова имеют вид `<keyword>=<value>`.\n",
    "* Любые аргументы ключевого слова, передаваемые в `print()`, должны идти в конце после списка отображаемых объектов."
   ]
  },
  {
   "cell_type": "markdown",
   "id": "vital-chemistry",
   "metadata": {},
   "source": [
    "### Аргумент sep="
   ]
  },
  {
   "cell_type": "markdown",
   "id": "northern-vehicle",
   "metadata": {},
   "source": [
    "Добавление аргумента `sep = <str>` приводит к тому, что объекты разделяются строкой `<str>` вместо одиночного пробела по умолчанию:"
   ]
  },
  {
   "cell_type": "code",
   "execution_count": 17,
   "id": "dimensional-coaching",
   "metadata": {},
   "outputs": [
    {
     "name": "stdout",
     "output_type": "stream",
     "text": [
      "foo 42 bar\n"
     ]
    }
   ],
   "source": [
    "print('foo', 42, 'bar')"
   ]
  },
  {
   "cell_type": "code",
   "execution_count": 18,
   "id": "european-sierra",
   "metadata": {},
   "outputs": [
    {
     "name": "stdout",
     "output_type": "stream",
     "text": [
      "foo/42/bar\n"
     ]
    }
   ],
   "source": [
    "print('foo', 42, 'bar', sep='/')"
   ]
  },
  {
   "cell_type": "code",
   "execution_count": 19,
   "id": "according-rings",
   "metadata": {},
   "outputs": [
    {
     "name": "stdout",
     "output_type": "stream",
     "text": [
      "foo...42...bar\n"
     ]
    }
   ],
   "source": [
    "print('foo', 42, 'bar', sep='...')"
   ]
  },
  {
   "cell_type": "code",
   "execution_count": 20,
   "id": "objective-boating",
   "metadata": {},
   "outputs": [
    {
     "name": "stdout",
     "output_type": "stream",
     "text": [
      "foo -> 1\n",
      "bar -> 2\n",
      "baz -> 3\n"
     ]
    }
   ],
   "source": [
    "d = {'foo': 1, 'bar': 2, 'baz': 3}\n",
    "for k, v in d.items():\n",
    "    print(k, v, sep=' -> ')"
   ]
  },
  {
   "cell_type": "markdown",
   "id": "combined-ministry",
   "metadata": {},
   "source": [
    "Чтобы сжимать объекты вместе без пробелов между ними, укажите `sep = ''`:"
   ]
  },
  {
   "cell_type": "code",
   "execution_count": 21,
   "id": "formed-insert",
   "metadata": {},
   "outputs": [
    {
     "name": "stdout",
     "output_type": "stream",
     "text": [
      "foo42bar\n"
     ]
    }
   ],
   "source": [
    "print('foo', 42, 'bar', sep='')"
   ]
  },
  {
   "cell_type": "markdown",
   "id": "sporting-hypothesis",
   "metadata": {},
   "source": [
    "### Аргумент end="
   ]
  },
  {
   "cell_type": "markdown",
   "id": "official-seeker",
   "metadata": {},
   "source": [
    "Аргумент `end = <str>` заставляет вывод завершаться `<str>` вместо новой строки по умолчанию:"
   ]
  },
  {
   "cell_type": "code",
   "execution_count": 22,
   "id": "danish-fraction",
   "metadata": {},
   "outputs": [
    {
     "name": "stdout",
     "output_type": "stream",
     "text": [
      "foo/42/bar\n"
     ]
    }
   ],
   "source": [
    "print('foo', end='/')\n",
    "print(42, end='/')\n",
    "print('bar')"
   ]
  }
 ],
 "metadata": {
  "kernelspec": {
   "display_name": "Python 3",
   "language": "python",
   "name": "python3"
  },
  "language_info": {
   "codemirror_mode": {
    "name": "ipython",
    "version": 3
   },
   "file_extension": ".py",
   "mimetype": "text/x-python",
   "name": "python",
   "nbconvert_exporter": "python",
   "pygments_lexer": "ipython3",
   "version": "3.8.2"
  }
 },
 "nbformat": 4,
 "nbformat_minor": 5
}
