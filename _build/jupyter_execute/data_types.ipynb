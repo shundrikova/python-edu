{
 "cells": [
  {
   "cell_type": "markdown",
   "id": "premium-screening",
   "metadata": {},
   "source": [
    "# Data Types"
   ]
  },
  {
   "cell_type": "markdown",
   "id": "metric-catch",
   "metadata": {},
   "source": [
    "## Встроенные типы данных"
   ]
  },
  {
   "cell_type": "markdown",
   "id": "thermal-shareware",
   "metadata": {},
   "source": [
    "Python имеет несколько встроенных типов данных, таких как **числа** (целые числа, числа с плавающей запятой, комплексные числа), **логические значения**, **строки**, **списки**, **кортежи**, **словари** и **множества**. Ими можно управлять с помощью нескольких инструментов:"
   ]
  },
  {
   "cell_type": "markdown",
   "id": "spare-basis",
   "metadata": {},
   "source": [
    "* Операторы\n",
    "* Встроенные функции\n",
    "* Методы типа данных"
   ]
  },
  {
   "cell_type": "markdown",
   "id": "silent-arrangement",
   "metadata": {},
   "source": [
    "### Числа"
   ]
  },
  {
   "cell_type": "markdown",
   "id": "alpha-tulsa",
   "metadata": {},
   "source": [
    "Python предоставляет **целые числа**, **числа с плавающей запятой** и **комплексные числа**. Целые числа и числа с плавающей запятой являются наиболее часто используемыми числовыми типами в повседневном программировании, в то время как комплексные числа имеют особые варианты использования в математике и естественных науках."
   ]
  },
  {
   "cell_type": "markdown",
   "id": "collected-standing",
   "metadata": {},
   "source": [
    "Вот краткое описание их функций:"
   ]
  },
  {
   "cell_type": "markdown",
   "id": "objective-cartridge",
   "metadata": {},
   "source": [
    "|Number|Description|Examples|Python Data Type|\n",
    "|:-----|:----:|----:|----:|\n",
    "|Integer|Целые числа|1, 2, 42, 476, -99999|int|\n",
    "|Floating-point|Числа с плавающей запятой|1.0, 2.2, 42.09, 476.1, -99999.9|float|\n",
    "|Complex|Числа с действительной и мнимой частью|complex(1, 2), complex(-1, 7), complex(\"1+2j\")|complex|"
   ]
  },
  {
   "cell_type": "markdown",
   "id": "reasonable-german",
   "metadata": {},
   "source": [
    "Целые числа имеют неограниченную точность. Информация о точности чисел с плавающей запятой доступна в `sys.float_info`. Комплексные числа имеют действительную и мнимую части, которые являются числами с плавающей запятой."
   ]
  },
  {
   "cell_type": "markdown",
   "id": "protecting-trail",
   "metadata": {},
   "source": [
    "### Логические значения"
   ]
  },
  {
   "cell_type": "markdown",
   "id": "golden-electron",
   "metadata": {},
   "source": [
    "Логические значения реализованы как подкласс целых чисел с двумя возможными значениями в Python: **True** или **False**. Обратите внимание, что эти значения должны начинаться с заглавной буквы."
   ]
  },
  {
   "cell_type": "markdown",
   "id": "physical-korean",
   "metadata": {},
   "source": [
    "### Строки"
   ]
  },
  {
   "cell_type": "markdown",
   "id": "mediterranean-trading",
   "metadata": {},
   "source": [
    "Строки - это фрагменты текста или последовательности символов, которые можно определить с помощью одинарных, двойных или тройных кавычек:"
   ]
  },
  {
   "cell_type": "code",
   "execution_count": 1,
   "id": "perfect-alfred",
   "metadata": {},
   "outputs": [],
   "source": [
    "# Использование одинарных кавычек\n",
    "greeting = 'Hello there!'\n",
    "\n",
    "# Использование двойных кавычек\n",
    "welcome = \"Hello there!\"\n",
    "\n",
    "# Использование тройных кавычек\n",
    "message = \"\"\"Hello there!\"\"\""
   ]
  },
  {
   "cell_type": "code",
   "execution_count": 2,
   "id": "entire-collector",
   "metadata": {},
   "outputs": [
    {
     "name": "stdout",
     "output_type": "stream",
     "text": [
      "Escaped:  can't\n",
      "Not escaped:  can't\n"
     ]
    }
   ],
   "source": [
    "# Экранирование символов\n",
    "escaped = 'can\\'t'\n",
    "print('Escaped: ', escaped)\n",
    "\n",
    "not_escaped = \"can't\"\n",
    "print('Not escaped: ', not_escaped)"
   ]
  },
  {
   "cell_type": "markdown",
   "id": "fatty-monte",
   "metadata": {},
   "source": [
    "Обратите внимание, что вы можете использовать разные типы кавычек для создания строковых объектов в Python. Вы также можете использовать символ обратной косой черты (\\) для экранирования символов со специальным значением, таких как сами кавычки."
   ]
  },
  {
   "cell_type": "markdown",
   "id": "combined-disclaimer",
   "metadata": {},
   "source": [
    "### Списки"
   ]
  },
  {
   "cell_type": "markdown",
   "id": "voluntary-jason",
   "metadata": {},
   "source": [
    "Списки обычно называются **массивами** почти во всех других языках программирования. В Python списки - это изменяемые последовательности, которые группируют различные объекты вместе. Чтобы создать список, вы используете присваивание с последовательностью объектов, разделенных запятыми, в квадратных скобках ([]) с правой стороны:"
   ]
  },
  {
   "cell_type": "code",
   "execution_count": 3,
   "id": "provincial-romania",
   "metadata": {},
   "outputs": [],
   "source": [
    "# Определение пустого списка\n",
    "empty = []\n",
    "\n",
    "# Определение списка чисел\n",
    "numbers = [1, 2, 3, 100]\n",
    "\n",
    "# Изменение списка\n",
    "numbers[3] = 200\n",
    "\n",
    "# Определение списка строк\n",
    "superheroes = [\"batman\", \"superman\", \"spiderman\"]\n",
    "\n",
    "# Определение списка объектов с разными типами данных\n",
    "mixed_types = [\"Hello World\", [4, 5, 6], False]"
   ]
  },
  {
   "cell_type": "markdown",
   "id": "viral-gender",
   "metadata": {},
   "source": [
    "Списки могут содержать объекты разных типов данных, в том числе другие списки. Они также могут быть пустыми. Поскольку списки являются изменяемыми последовательностями, вы можете изменять их на месте, используя индексную нотацию и операцию присваивания."
   ]
  },
  {
   "cell_type": "markdown",
   "id": "operational-egypt",
   "metadata": {},
   "source": [
    "### Кортежи"
   ]
  },
  {
   "cell_type": "markdown",
   "id": "based-hollywood",
   "metadata": {},
   "source": [
    "Кортежи похожи на списки, но представляют собой неизменяемые последовательности. Это означает, что вы не можете изменить их после создания. Чтобы создать объект кортежа, можно использовать операцию присваивания с последовательностью элементов, разделенных запятыми, с правой стороны. Обычно для разделения кортежа используются круглые скобки, но они не являются обязательными:"
   ]
  },
  {
   "cell_type": "code",
   "execution_count": 4,
   "id": "private-formation",
   "metadata": {},
   "outputs": [
    {
     "ename": "TypeError",
     "evalue": "'tuple' object does not support item assignment",
     "output_type": "error",
     "traceback": [
      "\u001b[0;31m---------------------------------------------------------------------------\u001b[0m",
      "\u001b[0;31mTypeError\u001b[0m                                 Traceback (most recent call last)",
      "\u001b[0;32m<ipython-input-4-b12d1c27d9d5>\u001b[0m in \u001b[0;36m<module>\u001b[0;34m\u001b[0m\n\u001b[1;32m      1\u001b[0m \u001b[0memployee\u001b[0m \u001b[0;34m=\u001b[0m \u001b[0;34m(\u001b[0m\u001b[0;34m\"Jane\"\u001b[0m\u001b[0;34m,\u001b[0m \u001b[0;34m\"Doe\"\u001b[0m\u001b[0;34m,\u001b[0m \u001b[0;36m31\u001b[0m\u001b[0;34m,\u001b[0m \u001b[0;34m\"Software Developer\"\u001b[0m\u001b[0;34m)\u001b[0m\u001b[0;34m\u001b[0m\u001b[0;34m\u001b[0m\u001b[0m\n\u001b[1;32m      2\u001b[0m \u001b[0;34m\u001b[0m\u001b[0m\n\u001b[0;32m----> 3\u001b[0;31m \u001b[0memployee\u001b[0m\u001b[0;34m[\u001b[0m\u001b[0;36m0\u001b[0m\u001b[0;34m]\u001b[0m \u001b[0;34m=\u001b[0m \u001b[0;34m\"John\"\u001b[0m\u001b[0;34m\u001b[0m\u001b[0;34m\u001b[0m\u001b[0m\n\u001b[0m",
      "\u001b[0;31mTypeError\u001b[0m: 'tuple' object does not support item assignment"
     ]
    }
   ],
   "source": [
    "employee = (\"Jane\", \"Doe\", 31, \"Software Developer\")\n",
    "\n",
    "employee[0] = \"John\""
   ]
  },
  {
   "cell_type": "markdown",
   "id": "handed-harbor",
   "metadata": {},
   "source": [
    "Если вы попытаетесь изменить кортеж на месте, вы получите ошибку TypeError, указывающую на то, что кортежи не поддерживают модификации."
   ]
  },
  {
   "cell_type": "markdown",
   "id": "minute-capture",
   "metadata": {},
   "source": [
    "### Словари"
   ]
  },
  {
   "cell_type": "markdown",
   "id": "friendly-needle",
   "metadata": {},
   "source": [
    "Словари - это тип ассоциативного массива, содержащего набор пар ключ-значение, в котором каждый ключ является хешируемым объектом, который сопоставляется с произвольным объектом, значением. Есть несколько способов создать словарь. Вот два из них:"
   ]
  },
  {
   "cell_type": "code",
   "execution_count": 8,
   "id": "exotic-producer",
   "metadata": {},
   "outputs": [
    {
     "name": "stdout",
     "output_type": "stream",
     "text": [
      "{'name': 'John Doe', 'age': 25, 'job': 'Python Developer'}\n",
      "{'name': 'Jane Doe', 'age': 24, 'job': 'Web Developer'}\n"
     ]
    }
   ],
   "source": [
    "person1 = {\"name\": \"John Doe\", \"age\": 25, \"job\": \"Python Developer\"}\n",
    "person2 = dict(name=\"Jane Doe\", age=24, job=\"Web Developer\")\n",
    "\n",
    "print(person1)\n",
    "print(person2)"
   ]
  },
  {
   "cell_type": "markdown",
   "id": "charged-johnson",
   "metadata": {},
   "source": [
    "Первый подход использует пару фигурных скобок, в которые вы добавляете разделенный запятыми список пар ключ-значение, используя двоеточие (:) для отделения ключей от значений. Второй подход использует встроенную функцию `dict()`, которая может принимать аргументы ключевых слов и превращать их в словарь с ключевыми словами в качестве ключей и аргументами в качестве значений."
   ]
  },
  {
   "cell_type": "markdown",
   "id": "graphic-coordination",
   "metadata": {},
   "source": [
    "### Множества"
   ]
  },
  {
   "cell_type": "markdown",
   "id": "explicit-polyester",
   "metadata": {},
   "source": [
    "Python также предоставляет такую структуру данных, как множество. Множества - это неупорядоченные и изменяемые коллекции произвольных, но хешируемых объектов Python. Создавать множества можно несколькими способами. Вот два из них:"
   ]
  },
  {
   "cell_type": "code",
   "execution_count": 9,
   "id": "ethical-violin",
   "metadata": {},
   "outputs": [],
   "source": [
    "employees1 = {\"John\", \"Jane\", \"Linda\"}\n",
    "\n",
    "employees2 = set([\"David\", \"Mark\", \"Marie\"])\n",
    "\n",
    "empty = set()"
   ]
  },
  {
   "cell_type": "markdown",
   "id": "skilled-marble",
   "metadata": {},
   "source": [
    "В первом примере для создания множества используются фигурные скобки и список объектов, разделенных запятыми. Если вы используете `set()`, вам необходимо предоставить итерацию с объектами, которые вы хотите включить в набор. Наконец, если вы хотите создать пустой набор, вам нужно использовать `set()` без аргументов. Использование пустой пары фигурных скобок создает пустой словарь вместо множества."
   ]
  },
  {
   "cell_type": "markdown",
   "id": "average-liberia",
   "metadata": {},
   "source": [
    "Один из наиболее распространенных вариантов использования множеств - их использование для удаления повторяющихся объектов из существующего итеративного объекта:"
   ]
  },
  {
   "cell_type": "code",
   "execution_count": 10,
   "id": "relative-monaco",
   "metadata": {},
   "outputs": [
    {
     "data": {
      "text/plain": [
       "{1, 2, 3, 4, 5}"
      ]
     },
     "execution_count": 10,
     "metadata": {},
     "output_type": "execute_result"
    }
   ],
   "source": [
    "set ([1, 2, 2, 3, 4, 5, 3])"
   ]
  },
  {
   "cell_type": "markdown",
   "id": "constant-driving",
   "metadata": {},
   "source": [
    "Поскольку наборы являются коллекциями уникальных объектов, когда вы создаете набор с помощью `set()` и итерируемого объекта в качестве аргумента, конструктор класса удаляет все повторяющиеся объекты и сохраняет только по одному экземпляру каждого из них в результирующем наборе."
   ]
  },
  {
   "cell_type": "markdown",
   "id": "behavioral-portrait",
   "metadata": {},
   "source": [
    "Когда использовать словарь:\n",
    "* Когда вам нужна логическая связь между парой key:value.\n",
    "* Когда вам нужен быстрый поиск ваших данных на основе настраиваемого ключа.\n",
    "* Когда ваши данные постоянно модифицируются. Помните, словари изменчивы.\n",
    "\n",
    "Когда использовать другие типы:\n",
    "* Используйте списки, если у вас есть набор данных, не требующий произвольного доступа. Старайтесь выбирать списки, когда вам нужна простая повторяющаяся коллекция, которая часто изменяется.\n",
    "* Используйте множество, если вам нужна уникальность элементов.\n",
    "* Используйте кортежи, когда ваши данные не могут измениться."
   ]
  },
  {
   "cell_type": "markdown",
   "id": "departmental-minister",
   "metadata": {},
   "source": [
    "## Операции над числами"
   ]
  },
  {
   "cell_type": "markdown",
   "id": "heated-olympus",
   "metadata": {},
   "source": [
    "**Операторы** представляют такие операции, как сложение, вычитание, умножение, деление и т. д. Когда вы комбинируете их с числами, они образуют выражения, которые Python может вычислить:"
   ]
  },
  {
   "cell_type": "markdown",
   "id": "basic-luther",
   "metadata": {},
   "source": [
    "```Python\n",
    "# Сложение\n",
    "5 + 3\n",
    "\n",
    "# Вычитание\n",
    "5 - 3\n",
    "\n",
    "# Умножение\n",
    "5 * 3\n",
    "\n",
    "# Деление\n",
    "5 / 3\n",
    "\n",
    "# Целочисленное деление\n",
    "5 // 3\n",
    "\n",
    "# Остаток от деления\n",
    "5 % 3\n",
    "\n",
    "# Возведение в степень\n",
    "5 ** 3\n",
    "```"
   ]
  },
  {
   "cell_type": "markdown",
   "id": "civic-dinner",
   "metadata": {},
   "source": [
    "Эти операторы работают с двумя **операндами** и обычно называются **арифметическими операторами**. Операнды могут быть числами или переменными, которые содержат числа."
   ]
  },
  {
   "cell_type": "markdown",
   "id": "fifty-commonwealth",
   "metadata": {},
   "source": [
    "Передавая целое число или строку, представляющую число, `float()` возвращает число с плавающей запятой:\n"
   ]
  },
  {
   "cell_type": "code",
   "execution_count": 12,
   "id": "elementary-gathering",
   "metadata": {},
   "outputs": [
    {
     "data": {
      "text/plain": [
       "9.0"
      ]
     },
     "execution_count": 12,
     "metadata": {},
     "output_type": "execute_result"
    }
   ],
   "source": [
    "# Целые числа\n",
    "float(9)"
   ]
  },
  {
   "cell_type": "code",
   "execution_count": 14,
   "id": "forced-bearing",
   "metadata": {},
   "outputs": [
    {
     "name": "stdout",
     "output_type": "stream",
     "text": [
      "2.0\n",
      "-200.0\n",
      "2.25\n"
     ]
    }
   ],
   "source": [
    "# Строки, представляющие числа\n",
    "print(float(\"2\"))\n",
    "print(float(\"-200\"))\n",
    "print(float(\"2.25\"))"
   ]
  },
  {
   "cell_type": "code",
   "execution_count": 15,
   "id": "surprised-lottery",
   "metadata": {},
   "outputs": [
    {
     "ename": "TypeError",
     "evalue": "can't convert complex to float",
     "output_type": "error",
     "traceback": [
      "\u001b[0;31m---------------------------------------------------------------------------\u001b[0m",
      "\u001b[0;31mTypeError\u001b[0m                                 Traceback (most recent call last)",
      "\u001b[0;32m<ipython-input-15-e88d092651d1>\u001b[0m in \u001b[0;36m<module>\u001b[0;34m\u001b[0m\n\u001b[1;32m      1\u001b[0m \u001b[0;31m# Комплексные числа\u001b[0m\u001b[0;34m\u001b[0m\u001b[0;34m\u001b[0m\u001b[0;34m\u001b[0m\u001b[0m\n\u001b[0;32m----> 2\u001b[0;31m \u001b[0mfloat\u001b[0m\u001b[0;34m(\u001b[0m\u001b[0mcomplex\u001b[0m\u001b[0;34m(\u001b[0m\u001b[0;36m1\u001b[0m\u001b[0;34m,\u001b[0m \u001b[0;36m2\u001b[0m\u001b[0;34m)\u001b[0m\u001b[0;34m)\u001b[0m\u001b[0;34m\u001b[0m\u001b[0;34m\u001b[0m\u001b[0m\n\u001b[0m",
      "\u001b[0;31mTypeError\u001b[0m: can't convert complex to float"
     ]
    }
   ],
   "source": [
    "# Комплексные числа\n",
    "float(complex(1, 2))"
   ]
  },
  {
   "cell_type": "markdown",
   "id": "affiliated-polyester",
   "metadata": {},
   "source": [
    "С помощью `float()` вы можете преобразовывать целые числа и строки, представляющие числа, в числа с плавающей запятой, но вы не можете преобразовывать комплексное число в число с плавающей запятой."
   ]
  },
  {
   "cell_type": "markdown",
   "id": "governmental-three",
   "metadata": {},
   "source": [
    "Учитывая число с плавающей запятой или строку, `int()` возвращает целое число. Эта функция не округляет до ближайшего целого числа. Она просто обрезает, отбрасывая все, что находится после десятичной точки, и возвращает число. Итак, ввод 10,6 возвращает 10 вместо 11. Аналогично, 3,25 возвращает 3:\n"
   ]
  },
  {
   "cell_type": "code",
   "execution_count": 16,
   "id": "unable-premiere",
   "metadata": {},
   "outputs": [
    {
     "data": {
      "text/plain": [
       "10"
      ]
     },
     "execution_count": 16,
     "metadata": {},
     "output_type": "execute_result"
    }
   ],
   "source": [
    "# Числа с плавающей запятой\n",
    "int(10.6)"
   ]
  },
  {
   "cell_type": "code",
   "execution_count": 17,
   "id": "seventh-monroe",
   "metadata": {},
   "outputs": [
    {
     "name": "stdout",
     "output_type": "stream",
     "text": [
      "2\n"
     ]
    },
    {
     "ename": "ValueError",
     "evalue": "invalid literal for int() with base 10: '2.3'",
     "output_type": "error",
     "traceback": [
      "\u001b[0;31m---------------------------------------------------------------------------\u001b[0m",
      "\u001b[0;31mValueError\u001b[0m                                Traceback (most recent call last)",
      "\u001b[0;32m<ipython-input-17-82cbdc68d355>\u001b[0m in \u001b[0;36m<module>\u001b[0;34m\u001b[0m\n\u001b[1;32m      1\u001b[0m \u001b[0;31m# Строки, представляющие числа\u001b[0m\u001b[0;34m\u001b[0m\u001b[0;34m\u001b[0m\u001b[0;34m\u001b[0m\u001b[0m\n\u001b[1;32m      2\u001b[0m \u001b[0mprint\u001b[0m\u001b[0;34m(\u001b[0m\u001b[0mint\u001b[0m\u001b[0;34m(\u001b[0m\u001b[0;34m\"2\"\u001b[0m\u001b[0;34m)\u001b[0m\u001b[0;34m)\u001b[0m\u001b[0;34m\u001b[0m\u001b[0;34m\u001b[0m\u001b[0m\n\u001b[0;32m----> 3\u001b[0;31m \u001b[0mprint\u001b[0m\u001b[0;34m(\u001b[0m\u001b[0mint\u001b[0m\u001b[0;34m(\u001b[0m\u001b[0;34m\"2.3\"\u001b[0m\u001b[0;34m)\u001b[0m\u001b[0;34m)\u001b[0m\u001b[0;34m\u001b[0m\u001b[0;34m\u001b[0m\u001b[0m\n\u001b[0m",
      "\u001b[0;31mValueError\u001b[0m: invalid literal for int() with base 10: '2.3'"
     ]
    }
   ],
   "source": [
    "# Строки, представляющие числа\n",
    "print(int(\"2\"))\n",
    "print(int(\"2.3\"))"
   ]
  },
  {
   "cell_type": "code",
   "execution_count": 18,
   "id": "accompanied-compact",
   "metadata": {},
   "outputs": [
    {
     "ename": "TypeError",
     "evalue": "can't convert complex to int",
     "output_type": "error",
     "traceback": [
      "\u001b[0;31m---------------------------------------------------------------------------\u001b[0m",
      "\u001b[0;31mTypeError\u001b[0m                                 Traceback (most recent call last)",
      "\u001b[0;32m<ipython-input-18-b45c6433f10d>\u001b[0m in \u001b[0;36m<module>\u001b[0;34m\u001b[0m\n\u001b[1;32m      1\u001b[0m \u001b[0;31m# Комплексные числа\u001b[0m\u001b[0;34m\u001b[0m\u001b[0;34m\u001b[0m\u001b[0;34m\u001b[0m\u001b[0m\n\u001b[0;32m----> 2\u001b[0;31m \u001b[0mint\u001b[0m\u001b[0;34m(\u001b[0m\u001b[0mcomplex\u001b[0m\u001b[0;34m(\u001b[0m\u001b[0;36m1\u001b[0m\u001b[0;34m,\u001b[0m \u001b[0;36m2\u001b[0m\u001b[0;34m)\u001b[0m\u001b[0;34m)\u001b[0m\u001b[0;34m\u001b[0m\u001b[0;34m\u001b[0m\u001b[0m\n\u001b[0m",
      "\u001b[0;31mTypeError\u001b[0m: can't convert complex to int"
     ]
    }
   ],
   "source": [
    "# Комплексные числа\n",
    "int(complex(1, 2))"
   ]
  },
  {
   "cell_type": "markdown",
   "id": "hungry-drinking",
   "metadata": {},
   "source": [
    "Обратите внимание, что вы можете передать строку, представляющую целое число, в `int()`, но вы не можете передать строку, представляющую число с плавающей запятой. Комплексные числа тоже не работают.\n"
   ]
  },
  {
   "cell_type": "markdown",
   "id": "developed-puzzle",
   "metadata": {},
   "source": [
    "Помимо этих встроенных функций, с каждым типом числа связано несколько методов. Вы можете получить к ним доступ, используя ссылку на атрибут, также известную как точечная нотация (**dot notation**):\n"
   ]
  },
  {
   "cell_type": "code",
   "execution_count": 19,
   "id": "ecological-dayton",
   "metadata": {},
   "outputs": [
    {
     "data": {
      "text/plain": [
       "True"
      ]
     },
     "execution_count": 19,
     "metadata": {},
     "output_type": "execute_result"
    }
   ],
   "source": [
    "10.0.is_integer()"
   ]
  },
  {
   "cell_type": "code",
   "execution_count": 20,
   "id": "deluxe-palestinian",
   "metadata": {},
   "outputs": [
    {
     "data": {
      "text/plain": [
       "False"
      ]
     },
     "execution_count": 20,
     "metadata": {},
     "output_type": "execute_result"
    }
   ],
   "source": [
    "10.2.is_integer()"
   ]
  },
  {
   "cell_type": "code",
   "execution_count": 21,
   "id": "heavy-settlement",
   "metadata": {},
   "outputs": [
    {
     "data": {
      "text/plain": [
       "4"
      ]
     },
     "execution_count": 21,
     "metadata": {},
     "output_type": "execute_result"
    }
   ],
   "source": [
    "(10).bit_length()"
   ]
  },
  {
   "cell_type": "code",
   "execution_count": 22,
   "id": "awful-retro",
   "metadata": {},
   "outputs": [
    {
     "ename": "SyntaxError",
     "evalue": "invalid syntax (<ipython-input-22-2c75d808345c>, line 1)",
     "output_type": "error",
     "traceback": [
      "\u001b[0;36m  File \u001b[0;32m\"<ipython-input-22-2c75d808345c>\"\u001b[0;36m, line \u001b[0;32m1\u001b[0m\n\u001b[0;31m    10.bit_length()\u001b[0m\n\u001b[0m       ^\u001b[0m\n\u001b[0;31mSyntaxError\u001b[0m\u001b[0;31m:\u001b[0m invalid syntax\n"
     ]
    }
   ],
   "source": [
    "10.bit_length()"
   ]
  },
  {
   "cell_type": "markdown",
   "id": "impossible-nomination",
   "metadata": {},
   "source": [
    "Эти методы могут быть полезным инструментом для изучения. В случае целых чисел для доступа к их методам через литерал (**literal**) необходимо использовать пару круглых скобок. В противном случае вы получите SyntaxError."
   ]
  },
  {
   "cell_type": "markdown",
   "id": "operating-research",
   "metadata": {},
   "source": [
    "## Логические выражения и операторы"
   ]
  },
  {
   "cell_type": "markdown",
   "id": "adverse-basket",
   "metadata": {},
   "source": [
    "Логические значения используются, чтобы выразить значение истинности выражения или объекта. Логические значения удобны при написании функций-предикатов или при использовании операторов сравнения, таких как больше (>), меньше (<), равно (==) ...\n"
   ]
  },
  {
   "cell_type": "code",
   "execution_count": 23,
   "id": "connected-month",
   "metadata": {},
   "outputs": [
    {
     "data": {
      "text/plain": [
       "True"
      ]
     },
     "execution_count": 23,
     "metadata": {},
     "output_type": "execute_result"
    }
   ],
   "source": [
    "2 < 5"
   ]
  },
  {
   "cell_type": "code",
   "execution_count": 24,
   "id": "sublime-today",
   "metadata": {},
   "outputs": [
    {
     "data": {
      "text/plain": [
       "False"
      ]
     },
     "execution_count": 24,
     "metadata": {},
     "output_type": "execute_result"
    }
   ],
   "source": [
    "4 > 10"
   ]
  },
  {
   "cell_type": "code",
   "execution_count": 25,
   "id": "drawn-geometry",
   "metadata": {},
   "outputs": [
    {
     "data": {
      "text/plain": [
       "False"
      ]
     },
     "execution_count": 25,
     "metadata": {},
     "output_type": "execute_result"
    }
   ],
   "source": [
    "4 <= 3"
   ]
  },
  {
   "cell_type": "code",
   "execution_count": 26,
   "id": "elementary-heart",
   "metadata": {},
   "outputs": [
    {
     "data": {
      "text/plain": [
       "True"
      ]
     },
     "execution_count": 26,
     "metadata": {},
     "output_type": "execute_result"
    }
   ],
   "source": [
    "3 >= 3"
   ]
  },
  {
   "cell_type": "code",
   "execution_count": 27,
   "id": "still-boulder",
   "metadata": {},
   "outputs": [
    {
     "data": {
      "text/plain": [
       "False"
      ]
     },
     "execution_count": 27,
     "metadata": {},
     "output_type": "execute_result"
    }
   ],
   "source": [
    "5 == 6"
   ]
  },
  {
   "cell_type": "code",
   "execution_count": 28,
   "id": "nearby-winning",
   "metadata": {},
   "outputs": [
    {
     "data": {
      "text/plain": [
       "True"
      ]
     },
     "execution_count": 28,
     "metadata": {},
     "output_type": "execute_result"
    }
   ],
   "source": [
    "6 != 9"
   ]
  },
  {
   "cell_type": "markdown",
   "id": "parallel-webster",
   "metadata": {},
   "source": [
    "Python предоставляет встроенную функцию `bool()`, которая тесно связана с логическими значениями. Вот как это работает:"
   ]
  },
  {
   "cell_type": "code",
   "execution_count": 29,
   "id": "residential-correction",
   "metadata": {},
   "outputs": [
    {
     "data": {
      "text/plain": [
       "False"
      ]
     },
     "execution_count": 29,
     "metadata": {},
     "output_type": "execute_result"
    }
   ],
   "source": [
    "bool(0)"
   ]
  },
  {
   "cell_type": "code",
   "execution_count": 30,
   "id": "billion-assumption",
   "metadata": {},
   "outputs": [
    {
     "data": {
      "text/plain": [
       "True"
      ]
     },
     "execution_count": 30,
     "metadata": {},
     "output_type": "execute_result"
    }
   ],
   "source": [
    "bool(1)"
   ]
  },
  {
   "cell_type": "code",
   "execution_count": 31,
   "id": "preliminary-consent",
   "metadata": {},
   "outputs": [
    {
     "data": {
      "text/plain": [
       "False"
      ]
     },
     "execution_count": 31,
     "metadata": {},
     "output_type": "execute_result"
    }
   ],
   "source": [
    "bool(\"\")"
   ]
  },
  {
   "cell_type": "code",
   "execution_count": 32,
   "id": "subsequent-settle",
   "metadata": {},
   "outputs": [
    {
     "data": {
      "text/plain": [
       "True"
      ]
     },
     "execution_count": 32,
     "metadata": {},
     "output_type": "execute_result"
    }
   ],
   "source": [
    "bool(\"a\")"
   ]
  },
  {
   "cell_type": "code",
   "execution_count": 33,
   "id": "noticed-provincial",
   "metadata": {},
   "outputs": [
    {
     "data": {
      "text/plain": [
       "False"
      ]
     },
     "execution_count": 33,
     "metadata": {},
     "output_type": "execute_result"
    }
   ],
   "source": [
    "bool([])"
   ]
  },
  {
   "cell_type": "code",
   "execution_count": 34,
   "id": "advised-honduras",
   "metadata": {},
   "outputs": [
    {
     "data": {
      "text/plain": [
       "True"
      ]
     },
     "execution_count": 34,
     "metadata": {},
     "output_type": "execute_result"
    }
   ],
   "source": [
    "bool([1, 2, 3])"
   ]
  },
  {
   "cell_type": "markdown",
   "id": "architectural-modern",
   "metadata": {},
   "source": [
    "`bool()` принимает объект в качестве аргумента и возвращает True или False в соответствии с истинным значением объекта."
   ]
  },
  {
   "cell_type": "markdown",
   "id": "warming-buyer",
   "metadata": {},
   "source": [
    "`int()` принимает логическое значение и возвращает 0 для False и 1 для True:"
   ]
  },
  {
   "cell_type": "code",
   "execution_count": 36,
   "id": "temporal-league",
   "metadata": {},
   "outputs": [
    {
     "data": {
      "text/plain": [
       "0"
      ]
     },
     "execution_count": 36,
     "metadata": {},
     "output_type": "execute_result"
    }
   ],
   "source": [
    "int(False)"
   ]
  },
  {
   "cell_type": "code",
   "execution_count": 37,
   "id": "italic-mortgage",
   "metadata": {},
   "outputs": [
    {
     "data": {
      "text/plain": [
       "1"
      ]
     },
     "execution_count": 37,
     "metadata": {},
     "output_type": "execute_result"
    }
   ],
   "source": [
    "int(True)"
   ]
  },
  {
   "cell_type": "markdown",
   "id": "generous-marine",
   "metadata": {},
   "source": [
    "Это связано с тем, что Python реализует свои логические значения как подкласс `int`."
   ]
  },
  {
   "cell_type": "markdown",
   "id": "applicable-gather",
   "metadata": {},
   "source": [
    "## Операции над строками"
   ]
  },
  {
   "cell_type": "markdown",
   "id": "prime-confirmation",
   "metadata": {},
   "source": [
    "После определения строк можно использовать оператор «плюс» (+), чтобы объединить их в новую строку:\n"
   ]
  },
  {
   "cell_type": "code",
   "execution_count": 38,
   "id": "blank-narrow",
   "metadata": {},
   "outputs": [
    {
     "data": {
      "text/plain": [
       "'Happy pythoning!'"
      ]
     },
     "execution_count": 38,
     "metadata": {},
     "output_type": "execute_result"
    }
   ],
   "source": [
    "\"Happy\" + \" \" + \"pythoning!\""
   ]
  },
  {
   "cell_type": "markdown",
   "id": "diagnostic-hungary",
   "metadata": {},
   "source": [
    "При использовании со строками оператор «плюс» (+) объединяет их в одну строку. \n",
    "Обратите внимание, что вам нужно включить пробел (\" \") между словами, чтобы иметь правильный интервал в полученной строке. Если нужно объединить много строк, вам следует подумать об использовании `.join()`, что более эффективно. Вы узнаете о `.join()` немного позже.\n"
   ]
  },
  {
   "cell_type": "markdown",
   "id": "frequent-veteran",
   "metadata": {},
   "source": [
    "Python имеет множество полезных встроенных функций и методов для работы со строками. Например, если вы передадите строку в качестве аргумента функции `len()`, вы получите длину строки или количество содержащихся в ней символов:"
   ]
  },
  {
   "cell_type": "code",
   "execution_count": 39,
   "id": "southeast-physics",
   "metadata": {},
   "outputs": [
    {
     "data": {
      "text/plain": [
       "16"
      ]
     },
     "execution_count": 39,
     "metadata": {},
     "output_type": "execute_result"
    }
   ],
   "source": [
    "len(\"Happy pythoning!\")"
   ]
  },
  {
   "cell_type": "markdown",
   "id": "supposed-register",
   "metadata": {},
   "source": [
    "Строковый класс (`str`) предоставляет богатый набор методов, полезных для манипулирования и обработки строк. \n",
    "`.join()` берет итерацию строк и объединяет их в новую строку. Строка, для которой вы вызываете метод, играет роль разделителя:\n"
   ]
  },
  {
   "cell_type": "code",
   "execution_count": 45,
   "id": "dental-joshua",
   "metadata": {},
   "outputs": [
    {
     "data": {
      "text/plain": [
       "'Happy pythoning!'"
      ]
     },
     "execution_count": 45,
     "metadata": {},
     "output_type": "execute_result"
    }
   ],
   "source": [
    "\" \".join([\"Happy\", \"pythoning!\"])"
   ]
  },
  {
   "cell_type": "markdown",
   "id": "improved-basketball",
   "metadata": {},
   "source": [
    "`.upper()` возвращает копию базовой строки со всеми буквами, преобразованными в верхний регистр:"
   ]
  },
  {
   "cell_type": "code",
   "execution_count": 46,
   "id": "genuine-difficulty",
   "metadata": {},
   "outputs": [
    {
     "data": {
      "text/plain": [
       "'HAPPY PYTHONING!'"
      ]
     },
     "execution_count": 46,
     "metadata": {},
     "output_type": "execute_result"
    }
   ],
   "source": [
    "\"Happy pythoning!\".upper()"
   ]
  },
  {
   "cell_type": "markdown",
   "id": "wired-football",
   "metadata": {},
   "source": [
    "`.lower()` возвращает копию базовой строки со всеми буквами, преобразованными в нижний регистр:"
   ]
  },
  {
   "cell_type": "code",
   "execution_count": 47,
   "id": "sticky-thursday",
   "metadata": {},
   "outputs": [
    {
     "data": {
      "text/plain": [
       "'happy pythoning!'"
      ]
     },
     "execution_count": 47,
     "metadata": {},
     "output_type": "execute_result"
    }
   ],
   "source": [
    "\"HAPPY PYTHONING!\".lower()"
   ]
  },
  {
   "cell_type": "markdown",
   "id": "dying-demonstration",
   "metadata": {},
   "source": [
    "`.format()` выполняет операцию форматирования строки. Этот метод обеспечивает большую гибкость при форматировании и интерполяции строк:"
   ]
  },
  {
   "cell_type": "code",
   "execution_count": 49,
   "id": "silent-tonight",
   "metadata": {},
   "outputs": [
    {
     "data": {
      "text/plain": [
       "\"My name is John Doe and I'm 25 years old\""
      ]
     },
     "execution_count": 49,
     "metadata": {},
     "output_type": "execute_result"
    }
   ],
   "source": [
    "name = \"John Doe\"\n",
    "age = 25\n",
    "\"My name is {0} and I'm {1} years old\".format(name, age)"
   ]
  },
  {
   "cell_type": "markdown",
   "id": "respective-daniel",
   "metadata": {},
   "source": [
    "Вы также можете использовать **f-строку** для форматирования ваших строк без использования `.format()`:"
   ]
  },
  {
   "cell_type": "code",
   "execution_count": 51,
   "id": "solved-financing",
   "metadata": {},
   "outputs": [
    {
     "data": {
      "text/plain": [
       "\"My name is John Doe and I'm 25 years old\""
      ]
     },
     "execution_count": 51,
     "metadata": {},
     "output_type": "execute_result"
    }
   ],
   "source": [
    "name = \"John Doe\"\n",
    "age = 25\n",
    "f\"My name is {name} and I'm {age} years old\""
   ]
  },
  {
   "cell_type": "markdown",
   "id": "nervous-burning",
   "metadata": {},
   "source": [
    "F-строки - это улучшенный синтаксис форматирования строк. Это строковые литералы с буквой f в начале вне кавычек. Выражения, заключенные в фигурные скобки ({}), заменяются своими значениями в форматированной строке.\n"
   ]
  },
  {
   "cell_type": "markdown",
   "id": "sublime-ballot",
   "metadata": {},
   "source": [
    "Строки - это последовательности символов. Это означает, что вы можете извлекать отдельные символы из строки, используя их позиционный индекс. Индекс - это целое число с отсчетом от нуля, связанное с определенной позицией в последовательности:"
   ]
  },
  {
   "cell_type": "code",
   "execution_count": 55,
   "id": "reported-johnson",
   "metadata": {},
   "outputs": [
    {
     "name": "stdout",
     "output_type": "stream",
     "text": [
      "W\n",
      "P\n",
      "!\n"
     ]
    }
   ],
   "source": [
    "welcome = \"Welcome to Python!\"\n",
    "print(\n",
    "    welcome[0], \n",
    "    welcome[11], \n",
    "    welcome[-1], \n",
    "    sep='\\n'\n",
    ")"
   ]
  },
  {
   "cell_type": "markdown",
   "id": "latin-adams",
   "metadata": {},
   "source": [
    "Операция индексации извлекает символ в позиции, указанной данным индексом. Обратите внимание, что отрицательный индекс извлекает элемент в обратном порядке, где -1 является индексом последнего символа в строке.\n"
   ]
  },
  {
   "cell_type": "markdown",
   "id": "martial-director",
   "metadata": {},
   "source": [
    "Вы также можете получить часть строки, разрезав ее:"
   ]
  },
  {
   "cell_type": "code",
   "execution_count": 58,
   "id": "wanted-printing",
   "metadata": {},
   "outputs": [
    {
     "name": "stdout",
     "output_type": "stream",
     "text": [
      "Welcome\n",
      "Python\n"
     ]
    }
   ],
   "source": [
    "welcome = \"Welcome to Python!\"\n",
    "print(\n",
    "    welcome[0:7], \n",
    "    welcome[11:17], \n",
    "    sep='\\n'\n",
    ")"
   ]
  },
  {
   "cell_type": "markdown",
   "id": "explicit-hopkins",
   "metadata": {},
   "source": [
    "Операция **slice** принимает элемент в форме `[start:end:step]`. Здесь start - это индекс первого элемента, который нужно включить в срез, а end - это индекс последнего элемента, который не включен в возвращаемый срез. Наконец, step - необязательное целое число, представляющее количество элементов, через которые нужно перейти при извлечении элементов из исходной строки. Например, шаг 2 вернет каждый второй элемент между start и end.\n"
   ]
  },
  {
   "cell_type": "markdown",
   "id": "quarterly-valentine",
   "metadata": {},
   "source": [
    "## Операции над списками"
   ]
  },
  {
   "cell_type": "markdown",
   "id": "subject-vehicle",
   "metadata": {},
   "source": [
    "Списки представляют собой последовательности, подобные строкам, поэтому можно получить доступ к их отдельным элементам, используя целочисленные индексы с отсчетом от нуля:\n"
   ]
  },
  {
   "cell_type": "code",
   "execution_count": 59,
   "id": "extreme-server",
   "metadata": {},
   "outputs": [
    {
     "name": "stdout",
     "output_type": "stream",
     "text": [
      "1\n",
      "2\n"
     ]
    }
   ],
   "source": [
    "numbers = [1, 2, 3, 200]\n",
    "print(\n",
    "    numbers[0], \n",
    "    numbers[1], \n",
    "    sep='\\n'\n",
    ")"
   ]
  },
  {
   "cell_type": "code",
   "execution_count": 60,
   "id": "solved-china",
   "metadata": {},
   "outputs": [
    {
     "name": "stdout",
     "output_type": "stream",
     "text": [
      "spiderman\n",
      "superman\n"
     ]
    }
   ],
   "source": [
    "superheroes = [\"batman\", \"superman\", \"spiderman\"]\n",
    "print(\n",
    "    superheroes[-1], \n",
    "    superheroes[-2], \n",
    "    sep='\\n'\n",
    ")"
   ]
  },
  {
   "cell_type": "markdown",
   "id": "mature-desperate",
   "metadata": {},
   "source": [
    "Вы также можете создавать новые списки из существующего списка, используя операцию `slice`:"
   ]
  },
  {
   "cell_type": "code",
   "execution_count": 62,
   "id": "loaded-ballet",
   "metadata": {},
   "outputs": [
    {
     "data": {
      "text/plain": [
       "[1, 2, 3]"
      ]
     },
     "execution_count": 62,
     "metadata": {},
     "output_type": "execute_result"
    }
   ],
   "source": [
    "numbers = [1, 2, 3, 200]\n",
    "new_list = numbers[0:3]\n",
    "new_list"
   ]
  },
  {
   "cell_type": "markdown",
   "id": "satisfactory-gamma",
   "metadata": {},
   "source": [
    "Если вы вложите список, строку или любую другую последовательность в другой список, вы можете получить доступ к внутренним элементам, используя несколько индексов:"
   ]
  },
  {
   "cell_type": "code",
   "execution_count": 63,
   "id": "encouraging-investigation",
   "metadata": {},
   "outputs": [
    {
     "data": {
      "text/plain": [
       "6"
      ]
     },
     "execution_count": 63,
     "metadata": {},
     "output_type": "execute_result"
    }
   ],
   "source": [
    "mixed_types = [\"Hello World\", [4, 5, 6], False]\n",
    "mixed_types[1][2]"
   ]
  },
  {
   "cell_type": "markdown",
   "id": "technical-pollution",
   "metadata": {},
   "source": [
    "Вы также можете объединить свои списки с помощью оператора плюс:"
   ]
  },
  {
   "cell_type": "code",
   "execution_count": 65,
   "id": "adjacent-franklin",
   "metadata": {},
   "outputs": [
    {
     "data": {
      "text/plain": [
       "['apples', 'grapes', 'oranges', 'corn', 'kale', 'mushrooms']"
      ]
     },
     "execution_count": 65,
     "metadata": {},
     "output_type": "execute_result"
    }
   ],
   "source": [
    "fruits = [\"apples\", \"grapes\", \"oranges\"]\n",
    "veggies = [\"corn\", \"kale\", \"mushrooms\"]\n",
    "grocery_list = fruits + veggies\n",
    "grocery_list"
   ]
  },
  {
   "cell_type": "markdown",
   "id": "palestinian-owner",
   "metadata": {},
   "source": [
    "Учитывая список в качестве аргумента, `len()` возвращает длину списка или количество содержащихся в нем объектов:"
   ]
  },
  {
   "cell_type": "code",
   "execution_count": 66,
   "id": "early-discussion",
   "metadata": {},
   "outputs": [
    {
     "data": {
      "text/plain": [
       "4"
      ]
     },
     "execution_count": 66,
     "metadata": {},
     "output_type": "execute_result"
    }
   ],
   "source": [
    "numbers = [1, 2, 3, 200]\n",
    "len(numbers)"
   ]
  },
  {
   "cell_type": "markdown",
   "id": "acquired-arthur",
   "metadata": {},
   "source": [
    "Наиболее часто используемые методы:"
   ]
  },
  {
   "cell_type": "markdown",
   "id": "referenced-conditioning",
   "metadata": {},
   "source": [
    "`.append()` принимает объект в качестве аргумента и добавляет его в конец базового списка:\n"
   ]
  },
  {
   "cell_type": "code",
   "execution_count": 67,
   "id": "informed-equity",
   "metadata": {},
   "outputs": [
    {
     "data": {
      "text/plain": [
       "['apples', 'grapes', 'oranges', 'blueberries']"
      ]
     },
     "execution_count": 67,
     "metadata": {},
     "output_type": "execute_result"
    }
   ],
   "source": [
    "fruits = [\"apples\", \"grapes\", \"oranges\"]\n",
    "fruits.append(\"blueberries\")\n",
    "fruits"
   ]
  },
  {
   "cell_type": "markdown",
   "id": "thousand-parameter",
   "metadata": {},
   "source": [
    "`.sort()` сортирует базовый список на месте:"
   ]
  },
  {
   "cell_type": "code",
   "execution_count": 69,
   "id": "animated-compression",
   "metadata": {},
   "outputs": [
    {
     "data": {
      "text/plain": [
       "['apples', 'blueberries', 'grapes', 'oranges']"
      ]
     },
     "execution_count": 69,
     "metadata": {},
     "output_type": "execute_result"
    }
   ],
   "source": [
    "fruits.sort()\n",
    "fruits"
   ]
  },
  {
   "cell_type": "markdown",
   "id": "powerful-cleaning",
   "metadata": {},
   "source": [
    "`.pop()` принимает в качестве аргумента целочисленный индекс, затем удаляет и возвращает элемент по этому индексу в базовом списке:"
   ]
  },
  {
   "cell_type": "code",
   "execution_count": 70,
   "id": "closed-scroll",
   "metadata": {},
   "outputs": [
    {
     "data": {
      "text/plain": [
       "3"
      ]
     },
     "execution_count": 70,
     "metadata": {},
     "output_type": "execute_result"
    }
   ],
   "source": [
    "numbers_list = [1, 2, 3, 200]\n",
    "numbers_list.pop(2)"
   ]
  },
  {
   "cell_type": "code",
   "execution_count": 71,
   "id": "computational-bicycle",
   "metadata": {},
   "outputs": [
    {
     "data": {
      "text/plain": [
       "[1, 2, 200]"
      ]
     },
     "execution_count": 71,
     "metadata": {},
     "output_type": "execute_result"
    }
   ],
   "source": [
    "numbers_list"
   ]
  },
  {
   "cell_type": "markdown",
   "id": "sonic-livestock",
   "metadata": {},
   "source": [
    "```{warning}\n",
    "Списки - это довольно распространенные и универсальные структуры данных в Python. Они настолько популярны, что разработчики иногда склонны злоупотреблять ими, что может сделать код неэффективным.\n",
    "```"
   ]
  },
  {
   "cell_type": "markdown",
   "id": "duplicate-preservation",
   "metadata": {},
   "source": [
    "## Операции над кортежами"
   ]
  },
  {
   "cell_type": "markdown",
   "id": "normal-insert",
   "metadata": {},
   "source": [
    "Как и в случае со списками, вы также можете выполнять индексацию и нарезку кортежей:"
   ]
  },
  {
   "cell_type": "code",
   "execution_count": 74,
   "id": "personal-dispute",
   "metadata": {},
   "outputs": [
    {
     "data": {
      "text/plain": [
       "'Jane'"
      ]
     },
     "execution_count": 74,
     "metadata": {},
     "output_type": "execute_result"
    }
   ],
   "source": [
    "employee = (\"Jane\", \"Doe\", 31, \"Software Developer\")\n",
    "employee[0]"
   ]
  },
  {
   "cell_type": "code",
   "execution_count": 75,
   "id": "challenging-rwanda",
   "metadata": {},
   "outputs": [
    {
     "data": {
      "text/plain": [
       "('Doe', 31)"
      ]
     },
     "execution_count": 75,
     "metadata": {},
     "output_type": "execute_result"
    }
   ],
   "source": [
    "employee[1:3]"
   ]
  },
  {
   "cell_type": "markdown",
   "id": "smaller-bosnia",
   "metadata": {},
   "source": [
    "Поскольку кортежи представляют собой последовательности, вы можете использовать индексы для извлечения определенных элементов в кортежах. Обратите внимание, что вы также можете получить фрагменты из кортежа с помощью операции нарезки.\n"
   ]
  },
  {
   "cell_type": "markdown",
   "id": "civilian-garlic",
   "metadata": {},
   "source": [
    "Вы также можете добавить два кортежа с помощью оператора конкатенации:"
   ]
  },
  {
   "cell_type": "code",
   "execution_count": 79,
   "id": "preliminary-arrangement",
   "metadata": {},
   "outputs": [
    {
     "data": {
      "text/plain": [
       "(1, 2, 3, 4)"
      ]
     },
     "execution_count": 79,
     "metadata": {},
     "output_type": "execute_result"
    }
   ],
   "source": [
    "first_tuple = (1, 2)\n",
    "second_tuple = (3, 4)\n",
    "first_tuple + second_tuple"
   ]
  },
  {
   "cell_type": "markdown",
   "id": "junior-discharge",
   "metadata": {},
   "source": [
    "Операция конкатенации с двумя кортежами создает новый кортеж, содержащий все элементы в двух входных кортежах.\n"
   ]
  },
  {
   "cell_type": "markdown",
   "id": "russian-tanzania",
   "metadata": {},
   "source": [
    "Как и в случае со списками и строками, вы можете использовать некоторые встроенные функции для управления кортежами. Например, `len()` возвращает длину кортежа или количество содержащихся в нем элементов:\n"
   ]
  },
  {
   "cell_type": "code",
   "execution_count": 81,
   "id": "split-latitude",
   "metadata": {},
   "outputs": [
    {
     "data": {
      "text/plain": [
       "3"
      ]
     },
     "execution_count": 81,
     "metadata": {},
     "output_type": "execute_result"
    }
   ],
   "source": [
    "numbers = (1, 2, 3)\n",
    "len(numbers)"
   ]
  },
  {
   "cell_type": "markdown",
   "id": "constitutional-chaos",
   "metadata": {},
   "source": [
    "С кортежем в качестве аргумента `list()` возвращает список со всеми элементами входного кортежа:"
   ]
  },
  {
   "cell_type": "code",
   "execution_count": 83,
   "id": "moral-creator",
   "metadata": {},
   "outputs": [
    {
     "data": {
      "text/plain": [
       "[1, 2, 3]"
      ]
     },
     "execution_count": 83,
     "metadata": {},
     "output_type": "execute_result"
    }
   ],
   "source": [
    "numbers = (1, 2, 3)\n",
    "list(numbers)"
   ]
  },
  {
   "cell_type": "markdown",
   "id": "southeast-greenhouse",
   "metadata": {},
   "source": [
    "Поскольку кортежи являются неизменяемыми последовательностями, многие методы, доступные для списков, не работают с кортежами. Однако кортежи имеют два встроенных метода:"
   ]
  },
  {
   "cell_type": "markdown",
   "id": "enabling-affairs",
   "metadata": {},
   "source": [
    "* `.count()`\n",
    "* `.index()`"
   ]
  },
  {
   "cell_type": "markdown",
   "id": "provincial-block",
   "metadata": {},
   "source": [
    "`.count()` принимает объект в качестве аргумента и возвращает количество раз, когда элемент появляется в базовом кортеже. Если объекта нет в кортеже, то `.count()` возвращает 0:"
   ]
  },
  {
   "cell_type": "code",
   "execution_count": 88,
   "id": "honest-flesh",
   "metadata": {},
   "outputs": [
    {
     "data": {
      "text/plain": [
       "2"
      ]
     },
     "execution_count": 88,
     "metadata": {},
     "output_type": "execute_result"
    }
   ],
   "source": [
    "letter = (\"a\", \"b\", \"b\", \"c\", \"a\")\n",
    "letter.count(\"a\")"
   ]
  },
  {
   "cell_type": "code",
   "execution_count": 85,
   "id": "national-management",
   "metadata": {},
   "outputs": [
    {
     "data": {
      "text/plain": [
       "1"
      ]
     },
     "execution_count": 85,
     "metadata": {},
     "output_type": "execute_result"
    }
   ],
   "source": [
    "letter.count(\"c\")"
   ]
  },
  {
   "cell_type": "code",
   "execution_count": 86,
   "id": "controversial-destination",
   "metadata": {},
   "outputs": [
    {
     "data": {
      "text/plain": [
       "0"
      ]
     },
     "execution_count": 86,
     "metadata": {},
     "output_type": "execute_result"
    }
   ],
   "source": [
    "letter.count(\"d\")"
   ]
  },
  {
   "cell_type": "markdown",
   "id": "interstate-cincinnati",
   "metadata": {},
   "source": [
    "`.index()` принимает объект в качестве аргумента и возвращает индекс первого экземпляра этого объекта в имеющемся кортеже. Если объекта нет в кортеже, то `.index()` вызывает `ValueError`:\n"
   ]
  },
  {
   "cell_type": "code",
   "execution_count": 90,
   "id": "absolute-renaissance",
   "metadata": {},
   "outputs": [
    {
     "data": {
      "text/plain": [
       "0"
      ]
     },
     "execution_count": 90,
     "metadata": {},
     "output_type": "execute_result"
    }
   ],
   "source": [
    "letter.index(\"a\")"
   ]
  },
  {
   "cell_type": "code",
   "execution_count": 92,
   "id": "collect-retail",
   "metadata": {},
   "outputs": [
    {
     "data": {
      "text/plain": [
       "3"
      ]
     },
     "execution_count": 92,
     "metadata": {},
     "output_type": "execute_result"
    }
   ],
   "source": [
    "letter.index(\"c\")"
   ]
  },
  {
   "cell_type": "code",
   "execution_count": 93,
   "id": "expected-convention",
   "metadata": {},
   "outputs": [
    {
     "ename": "ValueError",
     "evalue": "tuple.index(x): x not in tuple",
     "output_type": "error",
     "traceback": [
      "\u001b[0;31m---------------------------------------------------------------------------\u001b[0m",
      "\u001b[0;31mValueError\u001b[0m                                Traceback (most recent call last)",
      "\u001b[0;32m<ipython-input-93-5e53efde6b5c>\u001b[0m in \u001b[0;36m<module>\u001b[0;34m\u001b[0m\n\u001b[0;32m----> 1\u001b[0;31m \u001b[0mletter\u001b[0m\u001b[0;34m.\u001b[0m\u001b[0mindex\u001b[0m\u001b[0;34m(\u001b[0m\u001b[0;34m\"d\"\u001b[0m\u001b[0;34m)\u001b[0m\u001b[0;34m\u001b[0m\u001b[0;34m\u001b[0m\u001b[0m\n\u001b[0m",
      "\u001b[0;31mValueError\u001b[0m: tuple.index(x): x not in tuple"
     ]
    }
   ],
   "source": [
    "letter.index(\"d\")"
   ]
  },
  {
   "cell_type": "markdown",
   "id": "instrumental-shepherd",
   "metadata": {},
   "source": [
    "Кортежи - довольно полезные структуры данных. Они эффективно используют память, неизменяемы и обладают большим потенциалом для управления данными, которые не должны изменяться пользователем. Их также можно использовать в качестве ключей словаря, о чем вы узнаете в следующем разделе.\n"
   ]
  },
  {
   "cell_type": "markdown",
   "id": "peaceful-silver",
   "metadata": {},
   "source": [
    "## Операции над словарями"
   ]
  },
  {
   "cell_type": "markdown",
   "id": "electronic-bumper",
   "metadata": {},
   "source": [
    "Вы можете получить значение, связанное с ключом словаря, используя следующий синтаксис:\n"
   ]
  },
  {
   "cell_type": "code",
   "execution_count": 94,
   "id": "deadly-alexandria",
   "metadata": {},
   "outputs": [
    {
     "data": {
      "text/plain": [
       "'John Doe'"
      ]
     },
     "execution_count": 94,
     "metadata": {},
     "output_type": "execute_result"
    }
   ],
   "source": [
    "person1 = {\"name\": \"John Doe\", \"age\": 25, \"job\": \"Python Developer\"}\n",
    "person1[\"name\"]"
   ]
  },
  {
   "cell_type": "code",
   "execution_count": 95,
   "id": "linear-outside",
   "metadata": {},
   "outputs": [
    {
     "data": {
      "text/plain": [
       "25"
      ]
     },
     "execution_count": 95,
     "metadata": {},
     "output_type": "execute_result"
    }
   ],
   "source": [
    "person1[\"age\"]"
   ]
  },
  {
   "cell_type": "markdown",
   "id": "stupid-commission",
   "metadata": {},
   "source": [
    "Это очень похоже на операцию индексирования, но на этот раз вы используете ключ вместо индекса.\n"
   ]
  },
  {
   "cell_type": "markdown",
   "id": "stable-bidding",
   "metadata": {},
   "source": [
    "Вы также можете получить ключи, значения и пары ключ-значение в словаре с помощью `.keys()`, `.values()` и `.items()` соответственно:\n"
   ]
  },
  {
   "cell_type": "code",
   "execution_count": 96,
   "id": "official-overhead",
   "metadata": {},
   "outputs": [
    {
     "data": {
      "text/plain": [
       "dict_keys(['name', 'age', 'job'])"
      ]
     },
     "execution_count": 96,
     "metadata": {},
     "output_type": "execute_result"
    }
   ],
   "source": [
    "# Получить все ключи\n",
    "person1.keys()"
   ]
  },
  {
   "cell_type": "code",
   "execution_count": 97,
   "id": "painted-toronto",
   "metadata": {},
   "outputs": [
    {
     "data": {
      "text/plain": [
       "dict_values(['John Doe', 25, 'Python Developer'])"
      ]
     },
     "execution_count": 97,
     "metadata": {},
     "output_type": "execute_result"
    }
   ],
   "source": [
    "# Получить все значения\n",
    "person1.values()"
   ]
  },
  {
   "cell_type": "code",
   "execution_count": 98,
   "id": "brief-peace",
   "metadata": {},
   "outputs": [
    {
     "data": {
      "text/plain": [
       "dict_items([('name', 'John Doe'), ('age', 25), ('job', 'Python Developer')])"
      ]
     },
     "execution_count": 98,
     "metadata": {},
     "output_type": "execute_result"
    }
   ],
   "source": [
    "# Получить все пары ключ-значение\n",
    "person1.items()"
   ]
  },
  {
   "cell_type": "markdown",
   "id": "entertaining-architect",
   "metadata": {},
   "source": [
    "Эти три метода являются фундаментальными инструментами, когда дело доходит до управления словарями в Python, особенно когда вы выполняете итерацию по словарю.\n"
   ]
  },
  {
   "cell_type": "markdown",
   "id": "together-enforcement",
   "metadata": {},
   "source": [
    "## Операции над множествами"
   ]
  },
  {
   "cell_type": "markdown",
   "id": "authorized-poland",
   "metadata": {},
   "source": [
    "Вы можете использовать некоторые встроенные функции с множествами, как вы это делали с другими встроенными структурами данных. Например, если вы передадите множество в качестве аргумента функции `len(), вы получите количество элементов в множестве:\n"
   ]
  },
  {
   "cell_type": "code",
   "execution_count": 99,
   "id": "steady-advocate",
   "metadata": {},
   "outputs": [
    {
     "data": {
      "text/plain": [
       "3"
      ]
     },
     "execution_count": 99,
     "metadata": {},
     "output_type": "execute_result"
    }
   ],
   "source": [
    "employees1 = {\"John\", \"Jane\", \"Linda\"}\n",
    "len(employees1)"
   ]
  },
  {
   "cell_type": "markdown",
   "id": "mediterranean-version",
   "metadata": {},
   "source": [
    "Вы также можете использовать операторы для управления множествами в Python. В этом случае большинство операторов представляют собой типичные операции над множеством, такие как объединение (|), пересечение (&), разность (-) и так далее:"
   ]
  },
  {
   "cell_type": "code",
   "execution_count": 102,
   "id": "common-africa",
   "metadata": {},
   "outputs": [],
   "source": [
    "primes = {2, 3, 5, 7}\n",
    "evens = {2, 4, 6, 8}"
   ]
  },
  {
   "cell_type": "code",
   "execution_count": 103,
   "id": "outstanding-fishing",
   "metadata": {},
   "outputs": [
    {
     "data": {
      "text/plain": [
       "{2, 3, 4, 5, 6, 7, 8}"
      ]
     },
     "execution_count": 103,
     "metadata": {},
     "output_type": "execute_result"
    }
   ],
   "source": [
    "# Объединение\n",
    "primes | evens"
   ]
  },
  {
   "cell_type": "code",
   "execution_count": 104,
   "id": "adverse-brake",
   "metadata": {},
   "outputs": [
    {
     "data": {
      "text/plain": [
       "{2}"
      ]
     },
     "execution_count": 104,
     "metadata": {},
     "output_type": "execute_result"
    }
   ],
   "source": [
    "# Пересечение\n",
    "primes & evens"
   ]
  },
  {
   "cell_type": "code",
   "execution_count": 105,
   "id": "double-connection",
   "metadata": {},
   "outputs": [
    {
     "data": {
      "text/plain": [
       "{3, 5, 7}"
      ]
     },
     "execution_count": 105,
     "metadata": {},
     "output_type": "execute_result"
    }
   ],
   "source": [
    "# Разница\n",
    "primes - evens"
   ]
  },
  {
   "cell_type": "markdown",
   "id": "incorporate-institute",
   "metadata": {},
   "source": [
    "Множества предоставляют набор методов, в том числе методы, которые выполняют операции с множествами, подобные тем, что в приведенном выше примере. Они также предоставляют методы для изменения или обновления базового множества. \n"
   ]
  },
  {
   "cell_type": "markdown",
   "id": "informative-meeting",
   "metadata": {},
   "source": [
    "`.add()` берет объект и добавляет его в множество:"
   ]
  },
  {
   "cell_type": "code",
   "execution_count": 106,
   "id": "specific-apparel",
   "metadata": {},
   "outputs": [
    {
     "data": {
      "text/plain": [
       "{2, 3, 5, 7, 11}"
      ]
     },
     "execution_count": 106,
     "metadata": {},
     "output_type": "execute_result"
    }
   ],
   "source": [
    "primes = {2, 3, 5, 7}\n",
    "primes.add(11)\n",
    "primes"
   ]
  },
  {
   "cell_type": "markdown",
   "id": "extra-probe",
   "metadata": {},
   "source": [
    "`.remove()` берет объект и удаляет его из множества:"
   ]
  },
  {
   "cell_type": "code",
   "execution_count": 108,
   "id": "integral-attraction",
   "metadata": {},
   "outputs": [
    {
     "data": {
      "text/plain": [
       "{2, 3, 5, 7}"
      ]
     },
     "execution_count": 108,
     "metadata": {},
     "output_type": "execute_result"
    }
   ],
   "source": [
    "primes = {2, 3, 5, 7, 11}\n",
    "primes.remove(11)\n",
    "primes"
   ]
  }
 ],
 "metadata": {
  "kernelspec": {
   "display_name": "Python 3",
   "language": "python",
   "name": "python3"
  },
  "language_info": {
   "codemirror_mode": {
    "name": "ipython",
    "version": 3
   },
   "file_extension": ".py",
   "mimetype": "text/x-python",
   "name": "python",
   "nbconvert_exporter": "python",
   "pygments_lexer": "ipython3",
   "version": "3.8.2"
  }
 },
 "nbformat": 4,
 "nbformat_minor": 5
}