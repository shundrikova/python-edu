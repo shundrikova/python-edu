{
 "cells": [
  {
   "cell_type": "markdown",
   "id": "likely-defendant",
   "metadata": {},
   "source": [
    "# Functions & Modules"
   ]
  },
  {
   "cell_type": "markdown",
   "id": "promising-stocks",
   "metadata": {},
   "source": [
    "Повторное использование кода - очень важная часть программирования на любом языке. Увеличение размера кода затрудняет поддержку."
   ]
  },
  {
   "cell_type": "markdown",
   "id": "equipped-voltage",
   "metadata": {},
   "source": [
    "```{admonition} Interesting info\n",
    ":class: tip\n",
    "Чтобы большой программный проект был успешным, важно придерживаться принципа «**Don't Repeat Yourself**» (Не Повторяйся) или «**DRY**».\n",
    "```"
   ]
  },
  {
   "cell_type": "markdown",
   "id": "played-reunion",
   "metadata": {},
   "source": [
    "Мы уже рассмотрели один способ избавиться от повторения кода: с помощью циклов. В этом модуле мы рассмотрим еще два: функции и модули."
   ]
  },
  {
   "cell_type": "markdown",
   "id": "amended-intranet",
   "metadata": {},
   "source": [
    "## Функции"
   ]
  },
  {
   "cell_type": "markdown",
   "id": "humanitarian-florence",
   "metadata": {},
   "source": [
    "Любой оператор, состоящий из слова, за которым следует информация в круглых скобках, является вызовом функции.\n",
    "\n",
    "Вот несколько примеров, которые вы уже видели:"
   ]
  },
  {
   "cell_type": "markdown",
   "id": "gentle-mercy",
   "metadata": {},
   "source": [
    "```Python\n",
    "print('Hello World!')\n",
    "len([1, 2, 3, 4])\n",
    "str(12)\n",
    "```"
   ]
  },
  {
   "cell_type": "markdown",
   "id": "enhanced-engineering",
   "metadata": {},
   "source": [
    "Слова перед круглыми скобками - это имена функций, а значения, разделенные запятыми внутри круглых скобок, - аргументы функции."
   ]
  },
  {
   "cell_type": "markdown",
   "id": "frank-jungle",
   "metadata": {},
   "source": [
    "Помимо использования предопределенных функций, вы можете создавать свои собственные функции с помощью оператора `def`."
   ]
  },
  {
   "cell_type": "code",
   "execution_count": 1,
   "id": "formal-being",
   "metadata": {},
   "outputs": [
    {
     "name": "stdout",
     "output_type": "stream",
     "text": [
      "spam\n",
      "spam\n",
      "spam\n"
     ]
    }
   ],
   "source": [
    "def my_func():\n",
    "    print('spam')\n",
    "    print('spam')\n",
    "    print('spam')\n",
    "\n",
    "my_func()"
   ]
  },
  {
   "cell_type": "markdown",
   "id": "biological-commodity",
   "metadata": {},
   "source": [
    "Она не принимает аргументов и трижды печатает «spam». Она определяется, а затем вызывается. Операторы в функции выполняются только при ее вызове.\n",
    "Блок кода внутри каждой функции начинается с двоеточия (:) и имеет отступ."
   ]
  },
  {
   "cell_type": "markdown",
   "id": "mechanical-barcelona",
   "metadata": {},
   "source": [
    "Вы должны определить функции до их вызова, точно так же, как вы должны назначать переменные перед их использованием:"
   ]
  },
  {
   "cell_type": "code",
   "execution_count": 2,
   "id": "together-norfolk",
   "metadata": {},
   "outputs": [
    {
     "ename": "NameError",
     "evalue": "name 'hello' is not defined",
     "output_type": "error",
     "traceback": [
      "\u001b[0;31m---------------------------------------------------------------------------\u001b[0m",
      "\u001b[0;31mNameError\u001b[0m                                 Traceback (most recent call last)",
      "\u001b[0;32m<ipython-input-2-84ea1bbbea4b>\u001b[0m in \u001b[0;36m<module>\u001b[0;34m\u001b[0m\n\u001b[0;32m----> 1\u001b[0;31m \u001b[0mhello\u001b[0m\u001b[0;34m(\u001b[0m\u001b[0;34m)\u001b[0m\u001b[0;34m\u001b[0m\u001b[0;34m\u001b[0m\u001b[0m\n\u001b[0m\u001b[1;32m      2\u001b[0m \u001b[0;34m\u001b[0m\u001b[0m\n\u001b[1;32m      3\u001b[0m \u001b[0;32mdef\u001b[0m \u001b[0mhello\u001b[0m\u001b[0;34m(\u001b[0m\u001b[0;34m)\u001b[0m\u001b[0;34m:\u001b[0m\u001b[0;34m\u001b[0m\u001b[0;34m\u001b[0m\u001b[0m\n\u001b[1;32m      4\u001b[0m     \u001b[0mprint\u001b[0m\u001b[0;34m(\u001b[0m\u001b[0;34m'hello'\u001b[0m\u001b[0;34m)\u001b[0m\u001b[0;34m\u001b[0m\u001b[0;34m\u001b[0m\u001b[0m\n",
      "\u001b[0;31mNameError\u001b[0m: name 'hello' is not defined"
     ]
    }
   ],
   "source": [
    "hello()\n",
    "\n",
    "def hello():\n",
    "    print('hello')"
   ]
  },
  {
   "cell_type": "markdown",
   "id": "special-notebook",
   "metadata": {},
   "source": [
    "### Аргументы"
   ]
  },
  {
   "cell_type": "markdown",
   "id": "returning-liver",
   "metadata": {},
   "source": [
    "Все определения функций, которые мы рассмотрели до сих пор, были функциями с нулевыми аргументами, которые вызываются с пустыми круглыми скобками.\n",
    "Однако большинство функций принимают аргументы.\n",
    "\n",
    "В приведенном ниже примере определяется функция, которая принимает один аргумент:"
   ]
  },
  {
   "cell_type": "code",
   "execution_count": 4,
   "id": "premier-atmosphere",
   "metadata": {},
   "outputs": [
    {
     "name": "stdout",
     "output_type": "stream",
     "text": [
      "python!\n"
     ]
    }
   ],
   "source": [
    "def print_with_exclamation(word):\n",
    "    print(word + '!')\n",
    "\n",
    "print_with_exclamation('python')"
   ]
  },
  {
   "cell_type": "markdown",
   "id": "painted-mississippi",
   "metadata": {},
   "source": [
    "Вы также можете определять функции с более чем одним аргументом; разделите их запятыми:"
   ]
  },
  {
   "cell_type": "code",
   "execution_count": 7,
   "id": "informal-poison",
   "metadata": {},
   "outputs": [
    {
     "name": "stdout",
     "output_type": "stream",
     "text": [
      "13\n",
      "13\n"
     ]
    }
   ],
   "source": [
    "def print_sum_twice(x, y):\n",
    "    print(x + y)\n",
    "    print(x + y)\n",
    "\n",
    "print_sum_twice(5, 8)"
   ]
  },
  {
   "cell_type": "markdown",
   "id": "assumed-conflict",
   "metadata": {},
   "source": [
    "Аргументы функции могут использоваться как переменные внутри определения функции. Однако на них нельзя ссылаться вне определения функции. Это также относится к другим переменным, созданным внутри функции."
   ]
  },
  {
   "cell_type": "code",
   "execution_count": 8,
   "id": "legendary-statistics",
   "metadata": {},
   "outputs": [
    {
     "name": "stdout",
     "output_type": "stream",
     "text": [
      "8\n"
     ]
    },
    {
     "ename": "NameError",
     "evalue": "name 'variable' is not defined",
     "output_type": "error",
     "traceback": [
      "\u001b[0;31m---------------------------------------------------------------------------\u001b[0m",
      "\u001b[0;31mNameError\u001b[0m                                 Traceback (most recent call last)",
      "\u001b[0;32m<ipython-input-8-8f2a1a4178d6>\u001b[0m in \u001b[0;36m<module>\u001b[0;34m\u001b[0m\n\u001b[1;32m      4\u001b[0m \u001b[0;34m\u001b[0m\u001b[0m\n\u001b[1;32m      5\u001b[0m \u001b[0mfunc\u001b[0m\u001b[0;34m(\u001b[0m\u001b[0;36m7\u001b[0m\u001b[0;34m)\u001b[0m\u001b[0;34m\u001b[0m\u001b[0;34m\u001b[0m\u001b[0m\n\u001b[0;32m----> 6\u001b[0;31m \u001b[0mprint\u001b[0m\u001b[0;34m(\u001b[0m\u001b[0mvariable\u001b[0m\u001b[0;34m)\u001b[0m\u001b[0;34m\u001b[0m\u001b[0;34m\u001b[0m\u001b[0m\n\u001b[0m",
      "\u001b[0;31mNameError\u001b[0m: name 'variable' is not defined"
     ]
    }
   ],
   "source": [
    "def func(variable):\n",
    "    variable += 1\n",
    "    print(variable)\n",
    "\n",
    "func(7)\n",
    "print(variable)"
   ]
  },
  {
   "cell_type": "markdown",
   "id": "personalized-continent",
   "metadata": {},
   "source": [
    "Технически параметры - это переменные в определении функции, а аргументы - это значения, помещаемые в параметры при вызове функций."
   ]
  },
  {
   "cell_type": "markdown",
   "id": "fallen-myanmar",
   "metadata": {},
   "source": [
    "### Return"
   ]
  },
  {
   "cell_type": "markdown",
   "id": "settled-possession",
   "metadata": {},
   "source": [
    "Некоторые функции, такие как `int` или `str`, возвращают значение, которое можно использовать позже.\n",
    "Чтобы сделать это для ваших определенных функций, вы можете использовать оператор `return`."
   ]
  },
  {
   "cell_type": "code",
   "execution_count": 9,
   "id": "swiss-whole",
   "metadata": {},
   "outputs": [
    {
     "name": "stdout",
     "output_type": "stream",
     "text": [
      "7\n",
      "8\n"
     ]
    }
   ],
   "source": [
    "def max(x, y):\n",
    "    if x >= y:\n",
    "        return x\n",
    "    else:\n",
    "        return y\n",
    "\n",
    "print(max(4, 7))\n",
    "z = max(8, 5)\n",
    "print(z)"
   ]
  },
  {
   "cell_type": "markdown",
   "id": "quarterly-strip",
   "metadata": {},
   "source": [
    "Оператор `return` не может использоваться вне определения функции."
   ]
  },
  {
   "cell_type": "markdown",
   "id": "worst-marine",
   "metadata": {},
   "source": [
    "Как только вы возвращаете значение из функции, она немедленно перестает выполняться. Никакого кода после оператора возврата никогда не произойдет."
   ]
  },
  {
   "cell_type": "code",
   "execution_count": 11,
   "id": "younger-premiere",
   "metadata": {},
   "outputs": [
    {
     "name": "stdout",
     "output_type": "stream",
     "text": [
      "9\n"
     ]
    }
   ],
   "source": [
    "def add_numbers(x, y):\n",
    "    total = x + y\n",
    "    return total\n",
    "    print(\"This won’t be printed\")\n",
    "\n",
    "print(add_numbers(4, 5))"
   ]
  },
  {
   "cell_type": "markdown",
   "id": "formed-violin",
   "metadata": {},
   "source": [
    "### Функции как объекты"
   ]
  },
  {
   "cell_type": "markdown",
   "id": "impressive-usage",
   "metadata": {},
   "source": [
    "Хотя они создаются не так, как обычные переменные, функции такие же, как и любые другие значения. Они могут быть назначены и переназначены переменным, а затем на них будут ссылаться эти имена."
   ]
  },
  {
   "cell_type": "code",
   "execution_count": 14,
   "id": "identical-electric",
   "metadata": {},
   "outputs": [
    {
     "name": "stdout",
     "output_type": "stream",
     "text": [
      "28\n"
     ]
    }
   ],
   "source": [
    "def multiply(x, y):\n",
    "    return x * y\n",
    "\n",
    "a = 4\n",
    "b = 7\n",
    "operation = multiply\n",
    "print(operation(a, b))"
   ]
  },
  {
   "cell_type": "markdown",
   "id": "amended-newfoundland",
   "metadata": {},
   "source": [
    "В приведенном выше примере функция умножения назначается переменной `operation`. Теперь `operation` также можно использовать для вызова функции."
   ]
  },
  {
   "cell_type": "markdown",
   "id": "given-treat",
   "metadata": {},
   "source": [
    "Функции также могут использоваться в качестве аргументов других функций."
   ]
  },
  {
   "cell_type": "code",
   "execution_count": 17,
   "id": "difficult-edinburgh",
   "metadata": {},
   "outputs": [
    {
     "name": "stdout",
     "output_type": "stream",
     "text": [
      "30\n"
     ]
    }
   ],
   "source": [
    "def add(x, y):\n",
    "    return x + y\n",
    "\n",
    "def do_twice(func, x , y):\n",
    "    return func(func(x, y), func(x, y))\n",
    "\n",
    "print(do_twice(add, 5, 10))"
   ]
  },
  {
   "cell_type": "markdown",
   "id": "fifteen-indication",
   "metadata": {},
   "source": [
    "Как видите, функция `do_twice` принимает функцию в качестве аргумента и вызывает ее в своем теле."
   ]
  },
  {
   "cell_type": "markdown",
   "id": "peaceful-finnish",
   "metadata": {},
   "source": [
    "## Лямбды"
   ]
  },
  {
   "cell_type": "markdown",
   "id": "korean-implement",
   "metadata": {},
   "source": [
    "При обычном создании функции (с использованием `def`) она автоматически присваивается переменной.\n",
    "Это отличается от создания других объектов, таких как строки и целые числа, которые могут быть созданы «на лету», без присвоения их переменной."
   ]
  },
  {
   "cell_type": "markdown",
   "id": "prostate-plane",
   "metadata": {},
   "source": [
    "То же самое возможно и с функциями, при условии, что они созданы с использованием лямбда-синтаксиса. Созданные таким образом функции называются анонимными."
   ]
  },
  {
   "cell_type": "markdown",
   "id": "french-fluid",
   "metadata": {},
   "source": [
    "Этот подход чаще всего используется при передаче простой функции в качестве аргумента другой функции. Синтаксис показан в следующем примере и состоит из ключевого слова `lambda`, за которым следует список аргументов, двоеточие и выражение."
   ]
  },
  {
   "cell_type": "code",
   "execution_count": 19,
   "id": "passing-harassment",
   "metadata": {},
   "outputs": [
    {
     "data": {
      "text/plain": [
       "50"
      ]
     },
     "execution_count": 19,
     "metadata": {},
     "output_type": "execute_result"
    }
   ],
   "source": [
    "def my_func(f, arg):\n",
    "    return f(arg)\n",
    "\n",
    "my_func(lambda x: 2 * x * x, 5)"
   ]
  },
  {
   "cell_type": "markdown",
   "id": "tender-keyboard",
   "metadata": {},
   "source": [
    "```{admonition} Interesting info\n",
    ":class: tip\n",
    "Лямбда-функции получили свое название от лямбда-исчисления, которое представляет собой модель вычислений, изобретенную Алонзо Черчем.\n",
    "```"
   ]
  },
  {
   "cell_type": "markdown",
   "id": "cheap-austria",
   "metadata": {},
   "source": [
    "Лямбда-функции не так мощны, как именованные.\n",
    "Они могут делать только то, что требует одного выражения - обычно эквивалентно одной строке кода."
   ]
  },
  {
   "cell_type": "code",
   "execution_count": 21,
   "id": "instant-oracle",
   "metadata": {},
   "outputs": [
    {
     "name": "stdout",
     "output_type": "stream",
     "text": [
      "0\n",
      "0\n"
     ]
    }
   ],
   "source": [
    "# named function\n",
    "def polynomial(x):\n",
    "    return x ** 2 + 5 * x + 4\n",
    "print(polynomial(-4))\n",
    "\n",
    "# lambda\n",
    "print((lambda x:  x ** 2 + 5 * x + 4)(-4))"
   ]
  },
  {
   "cell_type": "markdown",
   "id": "commercial-husband",
   "metadata": {},
   "source": [
    "В приведенном выше коде мы на лету создали анонимную функцию и вызвали ее с аргументом."
   ]
  },
  {
   "cell_type": "markdown",
   "id": "still-suffering",
   "metadata": {},
   "source": [
    "Лямбда-функции можно назначать переменным и использовать как обычные функции."
   ]
  },
  {
   "cell_type": "code",
   "execution_count": 24,
   "id": "excessive-carroll",
   "metadata": {},
   "outputs": [
    {
     "name": "stdout",
     "output_type": "stream",
     "text": [
      "14\n"
     ]
    }
   ],
   "source": [
    "double = lambda x: x * 2\n",
    "print(double(7))"
   ]
  },
  {
   "cell_type": "markdown",
   "id": "buried-portfolio",
   "metadata": {},
   "source": [
    "Однако для этого редко есть веская причина - обычно лучше определить функцию с помощью `def`."
   ]
  },
  {
   "cell_type": "markdown",
   "id": "listed-plastic",
   "metadata": {},
   "source": [
    "## map & filter"
   ]
  },
  {
   "cell_type": "markdown",
   "id": "silver-handy",
   "metadata": {},
   "source": [
    "Встроенные функции `map` и `filter` - очень полезные функции высшего порядка, которые работают со списками (или подобными объектами, называемыми `iterables`)."
   ]
  },
  {
   "cell_type": "markdown",
   "id": "lonely-memorabilia",
   "metadata": {},
   "source": [
    "`map` принимает функцию и итерацию в качестве аргументов и возвращает новую итерацию с функцией, примененной к каждому аргументу."
   ]
  },
  {
   "cell_type": "code",
   "execution_count": 25,
   "id": "beautiful-academy",
   "metadata": {},
   "outputs": [
    {
     "name": "stdout",
     "output_type": "stream",
     "text": [
      "[16, 27, 38, 49, 60]\n"
     ]
    }
   ],
   "source": [
    "def add_five(x):\n",
    "    return x + 5\n",
    "\n",
    "nums = [11, 22, 33, 44, 55]\n",
    "result = list(map(add_five, nums))\n",
    "print(result)"
   ]
  },
  {
   "cell_type": "markdown",
   "id": "ordinary-alert",
   "metadata": {},
   "source": [
    "Мы можем легче достичь того же результата, используя лямбды."
   ]
  },
  {
   "cell_type": "code",
   "execution_count": 27,
   "id": "tender-macintosh",
   "metadata": {},
   "outputs": [
    {
     "name": "stdout",
     "output_type": "stream",
     "text": [
      "[16, 27, 38, 49, 60]\n"
     ]
    }
   ],
   "source": [
    "nums = [11, 22, 33, 44, 55]\n",
    "result = list(map(lambda x: x + 5, nums))\n",
    "print(result)"
   ]
  },
  {
   "cell_type": "markdown",
   "id": "temporal-seeker",
   "metadata": {},
   "source": [
    "Чтобы преобразовать результат в список, мы явно использовали `list`."
   ]
  },
  {
   "cell_type": "markdown",
   "id": "contemporary-mediterranean",
   "metadata": {},
   "source": [
    "`filter` фильтрует итерацию, удаляя элементы, не соответствующие предикату (функция, возвращающая логическое значение)."
   ]
  },
  {
   "cell_type": "code",
   "execution_count": 30,
   "id": "smaller-authorization",
   "metadata": {},
   "outputs": [
    {
     "name": "stdout",
     "output_type": "stream",
     "text": [
      "[22, 44]\n"
     ]
    }
   ],
   "source": [
    "nums = [11, 22, 33, 44, 55]\n",
    "result = list(filter(lambda x: x % 2 == 0, nums))\n",
    "print(result)"
   ]
  },
  {
   "cell_type": "markdown",
   "id": "private-panel",
   "metadata": {},
   "source": [
    "Как и `map`, результат должен быть явно преобразован в список, если вы хотите его распечатать."
   ]
  },
  {
   "cell_type": "markdown",
   "id": "patient-exhibit",
   "metadata": {},
   "source": [
    "## Генераторы"
   ]
  },
  {
   "cell_type": "markdown",
   "id": "sporting-philadelphia",
   "metadata": {},
   "source": [
    "**Генераторы** - это тип итераторов, таких как списки или кортежи.\n",
    "В отличие от списков, они не позволяют индексацию с произвольными индексами, но их все же можно перебирать с помощью циклов `for`.\n",
    "\n",
    "Их можно создать с помощью функций и оператора `yield`."
   ]
  },
  {
   "cell_type": "code",
   "execution_count": 31,
   "id": "hungry-brunei",
   "metadata": {},
   "outputs": [
    {
     "name": "stdout",
     "output_type": "stream",
     "text": [
      "5\n",
      "4\n",
      "3\n",
      "2\n",
      "1\n"
     ]
    }
   ],
   "source": [
    "def countdown():\n",
    "    i = 5\n",
    "    while i > 0:\n",
    "        yield i\n",
    "        i -= 1\n",
    "for i in countdown():\n",
    "    print(i)"
   ]
  },
  {
   "cell_type": "markdown",
   "id": "detailed-catering",
   "metadata": {},
   "source": [
    "Оператор `yield` используется для определения генератора, заменяя возврат функции для предоставления результата без разрушения локальных переменных."
   ]
  },
  {
   "cell_type": "markdown",
   "id": "determined-costume",
   "metadata": {},
   "source": [
    "Из-за того, что они выдают по одному элементу за раз, генераторы не имеют ограничений памяти списков.\n",
    "На самом деле они могут быть **бесконечными**!"
   ]
  },
  {
   "cell_type": "markdown",
   "id": "legitimate-mumbai",
   "metadata": {},
   "source": [
    "```Python\n",
    "def infinite_sevens():\n",
    "    while True:\n",
    "        yield 7\n",
    "        \n",
    "for i in infinite_sevens():\n",
    "    print(i)\n",
    "```"
   ]
  },
  {
   "cell_type": "markdown",
   "id": "developing-consent",
   "metadata": {},
   "source": [
    "Короче говоря, генераторы позволяют объявлять функцию, которая ведет себя как итератор, то есть ее можно использовать в цикле `for`."
   ]
  },
  {
   "cell_type": "markdown",
   "id": "returning-saturn",
   "metadata": {},
   "source": [
    "Конечные генераторы можно преобразовать в списки, передав их в качестве аргумента функции `list`."
   ]
  },
  {
   "cell_type": "code",
   "execution_count": 32,
   "id": "medical-tribute",
   "metadata": {},
   "outputs": [
    {
     "name": "stdout",
     "output_type": "stream",
     "text": [
      "[0, 2, 4, 6, 8, 10]\n"
     ]
    }
   ],
   "source": [
    "def numbers(x):\n",
    "    for i in range(x):\n",
    "        if i % 2 == 0:\n",
    "            yield i\n",
    "print(list(numbers(11)))"
   ]
  },
  {
   "cell_type": "markdown",
   "id": "drawn-moderator",
   "metadata": {},
   "source": [
    "Использование генераторов приводит к повышению производительности, что является результатом ленивой (по запросу) генерации значений, что приводит к снижению использования памяти. Кроме того, нам не нужно ждать, пока все элементы будут сгенерированы, прежде чем мы начнем их использовать."
   ]
  },
  {
   "cell_type": "markdown",
   "id": "italic-grill",
   "metadata": {},
   "source": [
    "## Декораторы"
   ]
  },
  {
   "cell_type": "markdown",
   "id": "productive-castle",
   "metadata": {},
   "source": [
    "**Декораторы** позволяют изменять функции с помощью других функций.\n",
    "Это идеально, когда вам нужно расширить функциональность функций, которые вы не хотите изменять."
   ]
  },
  {
   "cell_type": "code",
   "execution_count": 34,
   "id": "surgical-shade",
   "metadata": {},
   "outputs": [
    {
     "name": "stdout",
     "output_type": "stream",
     "text": [
      "============\n",
      "Hello World!\n",
      "============\n"
     ]
    }
   ],
   "source": [
    "def decor(func):\n",
    "    def wrap():\n",
    "        print('============')\n",
    "        func()\n",
    "        print('============')\n",
    "    return wrap\n",
    "\n",
    "def print_text():\n",
    "    print('Hello World!')\n",
    "\n",
    "decorated = decor(print_text)\n",
    "decorated()"
   ]
  },
  {
   "cell_type": "markdown",
   "id": "bearing-tutorial",
   "metadata": {},
   "source": [
    "Мы определили функцию с именем `decor`, которая имеет единственный параметр `func`. Внутри `decor` мы определили вложенную функцию с именем `wrap`. Функция `wrap` напечатает строку, затем вызовет функцию `func()` и напечатает другую строку. Функция `decor` возвращает в качестве результата функцию `wrap`.\n",
    "\n",
    "Можно сказать, что переменная `decorated` - декорированная версия `print_text` - это `print_text` плюс еще что-то.\n",
    "Фактически, если бы мы написали полезный декоратор, мы могли бы полностью заменить `print_text` декорированной версией, чтобы мы всегда получали нашу версию `print_text` «плюс что-то»."
   ]
  },
  {
   "cell_type": "markdown",
   "id": "identified-internship",
   "metadata": {},
   "source": [
    "Это делается путем переназначения переменной, содержащей нашу функцию:"
   ]
  },
  {
   "cell_type": "code",
   "execution_count": 36,
   "id": "sensitive-remedy",
   "metadata": {},
   "outputs": [
    {
     "name": "stdout",
     "output_type": "stream",
     "text": [
      "============\n",
      "Hello World!\n",
      "============\n"
     ]
    }
   ],
   "source": [
    "print_text = decor(print_text)\n",
    "print_text()"
   ]
  },
  {
   "cell_type": "markdown",
   "id": "comprehensive-judges",
   "metadata": {},
   "source": [
    "Теперь `print_text` соответствует нашей декорированной версии."
   ]
  },
  {
   "cell_type": "markdown",
   "id": "micro-power",
   "metadata": {},
   "source": [
    "В нашем предыдущем примере мы декорировали нашу функцию, заменив переменную, содержащую функцию, на упакованную версию."
   ]
  },
  {
   "cell_type": "markdown",
   "id": "chronic-eugene",
   "metadata": {},
   "source": [
    "Этот шаблон можно использовать в любое время, чтобы обернуть любую функцию.\n",
    "Python обеспечивает поддержку обертывания функции в декораторе, предварительно добавляя определение функции с именем декоратора и символом `@`.\n",
    "\n",
    "Если мы определяем функцию, мы можем «декорировать» ее символом `@`, например:"
   ]
  },
  {
   "cell_type": "code",
   "execution_count": 38,
   "id": "structured-ukraine",
   "metadata": {},
   "outputs": [
    {
     "name": "stdout",
     "output_type": "stream",
     "text": [
      "============\n",
      "Hello World!\n",
      "============\n"
     ]
    }
   ],
   "source": [
    "def decor(func):\n",
    "    def wrap():\n",
    "        print('============')\n",
    "        func()\n",
    "        print('============')\n",
    "    return wrap\n",
    "\n",
    "@decor\n",
    "def print_text():\n",
    "    print('Hello World!')\n",
    "\n",
    "print_text()"
   ]
  },
  {
   "cell_type": "markdown",
   "id": "durable-compression",
   "metadata": {},
   "source": [
    "Одна функция может иметь несколько декораторов."
   ]
  },
  {
   "cell_type": "markdown",
   "id": "knowing-mapping",
   "metadata": {},
   "source": [
    "## Модули"
   ]
  },
  {
   "cell_type": "markdown",
   "id": "level-handling",
   "metadata": {},
   "source": [
    "**Модули** - это фрагменты кода, написанные другими людьми для выполнения общих задач, таких как генерация случайных чисел, выполнение математических операций и т. д."
   ]
  },
  {
   "cell_type": "markdown",
   "id": "psychological-configuration",
   "metadata": {},
   "source": [
    "Основной способ использования модуля - это добавить `import module_name` вверху вашего кода, а затем использовать `module_name.var` для доступа к функциям и значениям с именем `var` в модуле.\n",
    "Например, в следующем примере модуль `random` используется для генерации случайных чисел:"
   ]
  },
  {
   "cell_type": "code",
   "execution_count": 39,
   "id": "final-fraud",
   "metadata": {},
   "outputs": [
    {
     "name": "stdout",
     "output_type": "stream",
     "text": [
      "2\n",
      "2\n",
      "4\n",
      "5\n",
      "5\n"
     ]
    }
   ],
   "source": [
    "import random\n",
    "\n",
    "for i in range(5):\n",
    "    value = random.randint(1, 6)\n",
    "    print(value)"
   ]
  },
  {
   "cell_type": "markdown",
   "id": "early-dairy",
   "metadata": {},
   "source": [
    "Код использует функцию `randint`, определенную в модуле `random`, для печати 5 случайных чисел в диапазоне от 1 до 6."
   ]
  },
  {
   "cell_type": "markdown",
   "id": "committed-academy",
   "metadata": {},
   "source": [
    "Есть еще один вид импорта, который можно использовать, если вам нужны только определенные функции из модуля.  \n",
    "Они принимают форму `from module_name import var`, а затем var можно использовать, как если бы он был определен в вашем коде обычным образом.  \n",
    "Например, чтобы импортировать только константу `pi` из модуля `math`:"
   ]
  },
  {
   "cell_type": "code",
   "execution_count": 40,
   "id": "south-respect",
   "metadata": {},
   "outputs": [
    {
     "name": "stdout",
     "output_type": "stream",
     "text": [
      "3.141592653589793\n"
     ]
    }
   ],
   "source": [
    "from math import pi\n",
    "\n",
    "print(pi)"
   ]
  },
  {
   "cell_type": "markdown",
   "id": "verified-address",
   "metadata": {},
   "source": [
    "Используйте список, разделенный запятыми, для импорта нескольких объектов:"
   ]
  },
  {
   "cell_type": "code",
   "execution_count": 41,
   "id": "compound-dancing",
   "metadata": {},
   "outputs": [],
   "source": [
    "from math import pi, sqrt"
   ]
  },
  {
   "cell_type": "markdown",
   "id": "partial-celebrity",
   "metadata": {},
   "source": [
    "`*` импортирует все объекты из модуля. Например: `from math import *`  \n",
    "Обычно это не рекомендуется, поскольку при этом путают переменные в вашем коде с переменными во внешнем модуле."
   ]
  },
  {
   "cell_type": "markdown",
   "id": "broad-strain",
   "metadata": {},
   "source": [
    "Попытка импортировать недоступный модуль вызывает ошибку `ImportError`."
   ]
  },
  {
   "cell_type": "code",
   "execution_count": 42,
   "id": "blocked-roller",
   "metadata": {},
   "outputs": [
    {
     "ename": "ModuleNotFoundError",
     "evalue": "No module named 'some_module'",
     "output_type": "error",
     "traceback": [
      "\u001b[0;31m---------------------------------------------------------------------------\u001b[0m",
      "\u001b[0;31mModuleNotFoundError\u001b[0m                       Traceback (most recent call last)",
      "\u001b[0;32m<ipython-input-42-beceebbbf090>\u001b[0m in \u001b[0;36m<module>\u001b[0;34m\u001b[0m\n\u001b[0;32m----> 1\u001b[0;31m \u001b[0;32mimport\u001b[0m \u001b[0msome_module\u001b[0m\u001b[0;34m\u001b[0m\u001b[0;34m\u001b[0m\u001b[0m\n\u001b[0m",
      "\u001b[0;31mModuleNotFoundError\u001b[0m: No module named 'some_module'"
     ]
    }
   ],
   "source": [
    "import some_module"
   ]
  },
  {
   "cell_type": "markdown",
   "id": "composed-material",
   "metadata": {},
   "source": [
    "Вы можете импортировать модуль или объект под другим именем, используя ключевое слово `as`. Это в основном используется, когда модуль или объект имеет длинное или непонятное имя."
   ]
  },
  {
   "cell_type": "code",
   "execution_count": 43,
   "id": "placed-gates",
   "metadata": {},
   "outputs": [
    {
     "name": "stdout",
     "output_type": "stream",
     "text": [
      "10.0\n"
     ]
    }
   ],
   "source": [
    "from math import sqrt as square_root\n",
    "\n",
    "print(square_root(100))"
   ]
  },
  {
   "cell_type": "markdown",
   "id": "disabled-killing",
   "metadata": {},
   "source": [
    "## Стандартная библиотека и pip"
   ]
  },
  {
   "cell_type": "markdown",
   "id": "joined-valentine",
   "metadata": {},
   "source": [
    "В Python есть три основных типа модулей: те, которые вы пишете сами, те, которые вы устанавливаете из внешних источников, и те, которые предустановлены вместе с Python.  \n",
    "Последний тип называется стандартной библиотекой и содержит множество полезных модулей. Некоторые из полезных модулей стандартной библиотеки включают `string`, `re`, `datetime`, `math`, `random`, `os`, `multiprocessing`, `subprocess`, `socket`, `email`, `json`, `doctest`, `unittest`, `pdb`, `argparse` и `sys`."
   ]
  },
  {
   "cell_type": "markdown",
   "id": "processed-trademark",
   "metadata": {},
   "source": [
    "Задачи, которые может выполнять стандартная библиотека, включают синтаксический анализ строк, сериализацию данных, тестирование, отладку и управление датами, сообщениями электронной почты, аргументами командной строки и многое другое!"
   ]
  },
  {
   "cell_type": "markdown",
   "id": "continued-failing",
   "metadata": {},
   "source": [
    "Обширная стандартная библиотека Python - одна из его основных сильных сторон как языка."
   ]
  },
  {
   "cell_type": "markdown",
   "id": "technical-kruger",
   "metadata": {},
   "source": [
    "Некоторые модули в стандартной библиотеке написаны на Python, а некоторые - на C.  \n",
    "Большинство из них доступны на всех платформах, но некоторые относятся к Windows или Unix."
   ]
  },
  {
   "cell_type": "markdown",
   "id": "corresponding-privilege",
   "metadata": {},
   "source": [
    "Многие сторонние модули Python хранятся в индексе пакетов Python (**PyPI**).  \n",
    "Лучший способ установить их - использовать программу `pip`. Он устанавливается по умолчанию в современных дистрибутивах Python. Если у вас его нет, его легко установить онлайн. После того, как он у вас есть, установить библиотеки из PyPI очень просто. Найдите имя библиотеки, которую вы хотите установить, перейдите в командную строку и введите `pip install <library_name>`. Как только вы это сделаете, импортируйте библиотеку и используйте ее в своем коде."
   ]
  },
  {
   "cell_type": "markdown",
   "id": "dried-wichita",
   "metadata": {},
   "source": [
    "Важно вводить команды `pip` в командной строке, а не в интерпретаторе Python.\n"
   ]
  }
 ],
 "metadata": {
  "kernelspec": {
   "display_name": "Python 3",
   "language": "python",
   "name": "python3"
  },
  "language_info": {
   "codemirror_mode": {
    "name": "ipython",
    "version": 3
   },
   "file_extension": ".py",
   "mimetype": "text/x-python",
   "name": "python",
   "nbconvert_exporter": "python",
   "pygments_lexer": "ipython3",
   "version": "3.8.2"
  }
 },
 "nbformat": 4,
 "nbformat_minor": 5
}