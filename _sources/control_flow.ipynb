{
 "cells": [
  {
   "cell_type": "markdown",
   "id": "analyzed-damages",
   "metadata": {},
   "source": [
    "# Control Flow"
   ]
  },
  {
   "cell_type": "markdown",
   "id": "horizontal-gateway",
   "metadata": {},
   "source": [
    "## Условные выражения"
   ]
  },
  {
   "cell_type": "markdown",
   "id": "published-harvard",
   "metadata": {},
   "source": [
    "Иногда вам нужно запустить (или не запускать) данный блок кода в зависимости от того, выполняются ли определенные условия. В этом случае условные выражения - ваш союзник. Эти операторы управляют выполнением группы операторов на основе значения истинности выражения. Вы можете создать условный оператор в Python с ключевым словом `if` и следующим общим синтаксисом:"
   ]
  },
  {
   "cell_type": "markdown",
   "id": "concerned-degree",
   "metadata": {},
   "source": [
    "```Python\n",
    "if expr0:\n",
    "    # Run if expr0 is true\n",
    "    # Your code goes here...\n",
    "elif expr1:\n",
    "    # Run if expr1 is true\n",
    "    # Your code goes here...\n",
    "elif expr2:\n",
    "    # Run if expr2 is true\n",
    "    # Your code goes here...\n",
    "...\n",
    "else:\n",
    "    # Run if all expressions are false\n",
    "    # Your code goes here...\n",
    "\n",
    "# Next statement\n",
    "```"
   ]
  },
  {
   "cell_type": "markdown",
   "id": "upper-payday",
   "metadata": {},
   "source": [
    "Оператор `if` запускает только один блок кода. Другими словами, если `expr0` истинно, будет выполняться только связанный с ним блок кода. После этого выполнение переходит к оператору непосредственно под оператором `if`."
   ]
  },
  {
   "cell_type": "markdown",
   "id": "worldwide-maria",
   "metadata": {},
   "source": [
    "Первое предложение `elif` оценивает `expr1` только в том случае, если `expr0` ложно. Если `expr0` - `False`, а `expr1` - `True`, то будет выполняться только блок кода, связанный с `expr1`, и так далее. Предложение `else` является необязательным и будет выполняться только в том случае, если все ранее оцененные условия ложны. У вас может быть столько предложений `elif`, сколько вам нужно, включая ни одного, но у вас может быть только одно предложение `else`."
   ]
  },
  {
   "cell_type": "markdown",
   "id": "monthly-istanbul",
   "metadata": {},
   "source": [
    "Вот несколько примеров того, как это работает:"
   ]
  },
  {
   "cell_type": "code",
   "execution_count": 4,
   "id": "potential-little",
   "metadata": {},
   "outputs": [
    {
     "name": "stdout",
     "output_type": "stream",
     "text": [
      "Вы совершеннолетний\n"
     ]
    }
   ],
   "source": [
    "age = 21\n",
    "if age >= 18:\n",
    "    print(\"Вы совершеннолетний\")"
   ]
  },
  {
   "cell_type": "code",
   "execution_count": 5,
   "id": "earned-attribute",
   "metadata": {},
   "outputs": [
    {
     "name": "stdout",
     "output_type": "stream",
     "text": [
      "Вы несовершеннолетний\n"
     ]
    }
   ],
   "source": [
    "age = 16\n",
    "if age >= 18:\n",
    "    print(\"Вы совершеннолетний\")\n",
    "else:\n",
    "    print(\"Вы НЕсовершеннолетний\")"
   ]
  },
  {
   "cell_type": "code",
   "execution_count": 6,
   "id": "touched-samba",
   "metadata": {},
   "outputs": [
    {
     "name": "stdout",
     "output_type": "stream",
     "text": [
      "Вам 18 лет\n"
     ]
    }
   ],
   "source": [
    "age = 18\n",
    "if age > 18:\n",
    "    print(\"Вы старше 18 лет\")\n",
    "elif age == 18:\n",
    "    print(\"Вам ровно 18 лет\")"
   ]
  },
  {
   "cell_type": "markdown",
   "id": "involved-formula",
   "metadata": {},
   "source": [
    "В первом примере возраст равен `21`, поэтому условие истинно, и Python выводит на экран «Вы совершеннолетний». Во втором примере выражение `age >= 18` оценивается как `False`, поэтому Python запускает блок кода предложения `else` и печатает на экране «Вы НЕсовершеннолетний»."
   ]
  },
  {
   "cell_type": "markdown",
   "id": "worth-adams",
   "metadata": {},
   "source": [
    "В последнем примере первое выражение `age > 18` ложно, поэтому выполнение переходит к предложению `elif`. Условие в этом предложении истинно, поэтому Python запускает связанный блок кода и печатает «Вам ровно 18 лет».\n"
   ]
  },
  {
   "cell_type": "markdown",
   "id": "pleased-sierra",
   "metadata": {},
   "source": [
    "### Тернарный оператор"
   ]
  },
  {
   "cell_type": "markdown",
   "id": "economic-applicant",
   "metadata": {},
   "source": [
    "Синтаксис тернарного оператора:"
   ]
  },
  {
   "cell_type": "markdown",
   "id": "fantastic-dollar",
   "metadata": {},
   "source": [
    "```Python\n",
    "<expr1> if <conditional_expr> else <expr2>\n",
    "```"
   ]
  },
  {
   "cell_type": "markdown",
   "id": "eligible-graduate",
   "metadata": {},
   "source": [
    "Он отличается от оператора `if`, потому что это не структура управления, которая направляет поток выполнения программы. Он действует больше как оператор, определяющий выражение. В приведенном выше примере сначала вычисляется `<conditional_expr>`. Если это правда, выражение оценивается как `<expr1>`. Если это ложь, выражение оценивается как `<expr2>`."
   ]
  },
  {
   "cell_type": "markdown",
   "id": "temporal-drinking",
   "metadata": {},
   "source": [
    "Обратите внимание на неочевидный порядок: сначала вычисляется среднее выражение, и на основе этого результата возвращается одно из выражений на концах. Вот несколько примеров, которые, надеюсь, помогут прояснить ситуацию:"
   ]
  },
  {
   "cell_type": "code",
   "execution_count": 8,
   "id": "automotive-processing",
   "metadata": {},
   "outputs": [
    {
     "name": "stdout",
     "output_type": "stream",
     "text": [
      "Let's go to the beach\n"
     ]
    }
   ],
   "source": [
    "raining = False\n",
    "print(\"Let's go to the\", 'beach' if not raining else 'library')"
   ]
  },
  {
   "cell_type": "code",
   "execution_count": 9,
   "id": "stopped-latino",
   "metadata": {},
   "outputs": [
    {
     "name": "stdout",
     "output_type": "stream",
     "text": [
      "Let's go to the library\n"
     ]
    }
   ],
   "source": [
    "raining = True\n",
    "print(\"Let's go to the\", 'beach' if not raining else 'library')"
   ]
  },
  {
   "cell_type": "code",
   "execution_count": 10,
   "id": "domestic-antigua",
   "metadata": {},
   "outputs": [
    {
     "data": {
      "text/plain": [
       "'minor'"
      ]
     },
     "execution_count": 10,
     "metadata": {},
     "output_type": "execute_result"
    }
   ],
   "source": [
    "age = 12\n",
    "'minor' if age < 21 else 'adult'"
   ]
  },
  {
   "cell_type": "code",
   "execution_count": 11,
   "id": "animal-extra",
   "metadata": {},
   "outputs": [
    {
     "data": {
      "text/plain": [
       "'no'"
      ]
     },
     "execution_count": 11,
     "metadata": {},
     "output_type": "execute_result"
    }
   ],
   "source": [
    "'yes' if ('qux' in ['foo', 'bar', 'baz']) else 'no'"
   ]
  },
  {
   "cell_type": "markdown",
   "id": "polished-alfred",
   "metadata": {},
   "source": [
    "```{note}\n",
    "Условное выражение Python похоже на `<conditional_expr> ? <expr1> : синтаксис <expr2>`, используемый многими другими языками, включая C, Perl и Java.\n",
    "\n",
    "Вы можете видеть в PEP 308, что `<conditional_expr> ? <expr1> : синтаксис <expr2>` рассматривался для Python, но в конечном итоге был отклонен в пользу синтаксиса, показанного выше.\n",
    "```"
   ]
  },
  {
   "cell_type": "markdown",
   "id": "romantic-actress",
   "metadata": {},
   "source": [
    "Условные выражения также используют вычисление по сокращённой схеме. Части условного выражения не вычисляются, если в этом нет необходимости."
   ]
  },
  {
   "cell_type": "markdown",
   "id": "geographic-topic",
   "metadata": {},
   "source": [
    "В выражении `<expr1> if <conditional_expr> else <expr2>`:"
   ]
  },
  {
   "cell_type": "markdown",
   "id": "fluid-friday",
   "metadata": {},
   "source": [
    "* Если `<conditional_expr>` истинно, возвращается `<expr1>`, а `<expr2>` не вычисляется.\n",
    "* Если `<conditional_expr>` ложно, возвращается `<expr2>`, а `<expr1>` не вычисляется."
   ]
  },
  {
   "cell_type": "markdown",
   "id": "unlikely-cathedral",
   "metadata": {},
   "source": [
    "Вы можете проверить это, используя выражения, которые могут вызвать ошибку:"
   ]
  },
  {
   "cell_type": "code",
   "execution_count": 13,
   "id": "written-temple",
   "metadata": {},
   "outputs": [
    {
     "data": {
      "text/plain": [
       "'foo'"
      ]
     },
     "execution_count": 13,
     "metadata": {},
     "output_type": "execute_result"
    }
   ],
   "source": [
    "'foo' if True else 1/0"
   ]
  },
  {
   "cell_type": "code",
   "execution_count": 14,
   "id": "powerful-occupation",
   "metadata": {},
   "outputs": [
    {
     "data": {
      "text/plain": [
       "'bar'"
      ]
     },
     "execution_count": 14,
     "metadata": {},
     "output_type": "execute_result"
    }
   ],
   "source": [
    "1/0 if False else 'bar'"
   ]
  },
  {
   "cell_type": "markdown",
   "id": "massive-oakland",
   "metadata": {},
   "source": [
    "В обоих случаях `1/0` не вычисляется, поэтому исключение не возникает."
   ]
  },
  {
   "cell_type": "markdown",
   "id": "lovely-tomato",
   "metadata": {},
   "source": [
    "## Циклы"
   ]
  },
  {
   "cell_type": "markdown",
   "id": "metropolitan-reflection",
   "metadata": {},
   "source": [
    "Если вам нужно повторить фрагмент кода несколько раз, чтобы получить окончательный результат, вам может потребоваться цикл. Циклы - это распространенный способ многократного повторения и выполнения определенных действий на каждой итерации. Python предоставляет два типа циклов:\n"
   ]
  },
  {
   "cell_type": "markdown",
   "id": "theoretical-probe",
   "metadata": {},
   "source": [
    "* циклы `for` для определенной итерации или выполнения заданного числа повторений\n",
    "* циклы `while` для неопределенной итерации или повторение до тех пор, пока не будет выполнено заданное условие"
   ]
  },
  {
   "cell_type": "markdown",
   "id": "raising-external",
   "metadata": {},
   "source": [
    "### Цикл for"
   ]
  },
  {
   "cell_type": "markdown",
   "id": "third-marketing",
   "metadata": {},
   "source": [
    "```Python\n",
    "for loop_var in iterable:\n",
    "    # Этот блок кода повторяется до тех пор, пока iterable не будет закончен\n",
    "    # Делаем что-нибудь с loop_var...\n",
    "    if break_condition:\n",
    "        break  # Выйти из цикла\n",
    "    if continue_condition:\n",
    "        continue  # Продолжить цикл без выполнения оставшегося кода\n",
    "    # Оставшийся код...\n",
    "\n",
    "# Следующее выражение\n",
    "```"
   ]
  },
  {
   "cell_type": "markdown",
   "id": "voluntary-survey",
   "metadata": {},
   "source": [
    "Этот тип цикла выполняет столько итераций, сколько элементов в `iterable`. Обычно вы используете каждую итерацию для выполнения операции над значением `loop_var`. Операторы `break` и `continue` являются необязательными."
   ]
  },
  {
   "cell_type": "code",
   "execution_count": 16,
   "id": "specialized-collection",
   "metadata": {},
   "outputs": [
    {
     "name": "stdout",
     "output_type": "stream",
     "text": [
      "1\n",
      "2\n",
      "3\n",
      "4\n",
      "5\n",
      "The loop wasn't interrupted\n"
     ]
    }
   ],
   "source": [
    "for i in (1, 2, 3, 4, 5):\n",
    "    print(i)\n",
    "else:\n",
    "    print(\"The loop wasn't interrupted\")"
   ]
  },
  {
   "cell_type": "markdown",
   "id": "amazing-cotton",
   "metadata": {},
   "source": [
    "Когда цикл обрабатывает последнее число в кортеже, поток выполнения переходит в предложение `else` и печатает *«The loop wasn't interrupted»*. Это потому, что ваш цикл не был прерван оператором `break`. Вы обычно используете предложение `else` в циклах, в блоке кода которых есть оператор `break`. В противном случае в этом нет необходимости."
   ]
  },
  {
   "cell_type": "markdown",
   "id": "significant-disorder",
   "metadata": {},
   "source": [
    "#### break"
   ]
  },
  {
   "cell_type": "markdown",
   "id": "ceramic-salmon",
   "metadata": {},
   "source": [
    "Если в цикле встречается `break_condition`, то оператор `break` прерывает выполнение цикла и переходит к следующему оператору ниже цикла, не используя остальные элементы в итерации:"
   ]
  },
  {
   "cell_type": "code",
   "execution_count": 17,
   "id": "private-healing",
   "metadata": {},
   "outputs": [
    {
     "name": "stdout",
     "output_type": "stream",
     "text": [
      "Number found: 3\n"
     ]
    }
   ],
   "source": [
    "number = 3\n",
    "for i in (1, 2, 3, 4, 5):\n",
    "    if i == number:\n",
    "        print(\"Number found:\", i)\n",
    "        break\n",
    "else:\n",
    "    print(\"Number not found\")"
   ]
  },
  {
   "cell_type": "markdown",
   "id": "informational-venice",
   "metadata": {},
   "source": [
    "Когда `i == 3`, цикл печатает *Number found: 3*, а затем выполняет `break`. Это прерывает цикл, и выполнение переходит к строке ниже цикла без выполнения предложения else. Если вы установите `number` равным `6` или любым другим числом, не входящим в набор чисел, то цикл не попадет в оператор `break` и напечатает *Number not found*.\n"
   ]
  },
  {
   "cell_type": "markdown",
   "id": "frequent-beginning",
   "metadata": {},
   "source": [
    "#### continue"
   ]
  },
  {
   "cell_type": "markdown",
   "id": "mathematical-proceeding",
   "metadata": {},
   "source": [
    "Если цикл достигает `continue_condition`, то оператор `continue` возобновляет цикл без выполнения кода в блоке цикла:"
   ]
  },
  {
   "cell_type": "code",
   "execution_count": 18,
   "id": "forward-russell",
   "metadata": {},
   "outputs": [
    {
     "name": "stdout",
     "output_type": "stream",
     "text": [
      "1\n",
      "2\n",
      "4\n",
      "5\n"
     ]
    }
   ],
   "source": [
    "for i in (1, 2, 3, 4, 5):\n",
    "    if i == 3:\n",
    "        continue\n",
    "    print(i)"
   ]
  },
  {
   "cell_type": "markdown",
   "id": "surface-surname",
   "metadata": {},
   "source": [
    "На этот раз инструкция `continue` перезапускает цикл, когда `i == 3`. Вот почему вы не видите цифру `3` в выводе."
   ]
  },
  {
   "cell_type": "markdown",
   "id": "amateur-sword",
   "metadata": {},
   "source": [
    "Оба оператора, `break` и `continue`, должны быть заключены в условное выражение. В противном случае цикл всегда прерывается, когда он выполняет `break`, и продолжается, когда он выполняет `continue`."
   ]
  },
  {
   "cell_type": "markdown",
   "id": "advance-brief",
   "metadata": {},
   "source": [
    "### Цикл while"
   ]
  },
  {
   "cell_type": "markdown",
   "id": "inappropriate-activity",
   "metadata": {},
   "source": [
    "Обычно цикл `while` используется, если заранее неизвестно, сколько итераций вам нужно для выполнения операции. Вот почему этот цикл используется для выполнения неопределенных итераций."
   ]
  },
  {
   "cell_type": "markdown",
   "id": "square-wildlife",
   "metadata": {},
   "source": [
    "```Python\n",
    "while expression:\n",
    "    # Этот блок кода повторяется до тех пор, пока expression истинно\n",
    "    # Делаем что-нибудь...\n",
    "    if break_condition:\n",
    "        break  # Выйти из цикла\n",
    "    if continue_condition:\n",
    "        continue  # Продолжить цикл без выполнения оставшегося кода\n",
    "    # Оставшийся код...\n",
    "\n",
    "# Следующее выражение\n",
    "```"
   ]
  },
  {
   "cell_type": "markdown",
   "id": "skilled-routine",
   "metadata": {},
   "source": [
    "Этот цикл работает аналогично циклу `for`, но он будет повторяться до тех пор, пока выражение не станет ложным. Распространенная проблема с этим типом цикла возникает, когда вы предоставляете выражение, которое никогда не оценивается как `False`. В этом случае цикл будет повторяться бесконечно."
   ]
  },
  {
   "cell_type": "markdown",
   "id": "mathematical-valve",
   "metadata": {},
   "source": [
    "Вот пример того, как работает цикл `while`:"
   ]
  },
  {
   "cell_type": "code",
   "execution_count": 19,
   "id": "distinct-license",
   "metadata": {},
   "outputs": [
    {
     "name": "stdout",
     "output_type": "stream",
     "text": [
      "1\n",
      "2\n",
      "3\n",
      "4\n",
      "The loop wasn't interrupted\n"
     ]
    }
   ],
   "source": [
    "count = 1\n",
    "while count < 5:\n",
    "    print(count)\n",
    "    count = count + 1\n",
    "else:\n",
    "    print(\"The loop wasn't interrupted\")"
   ]
  },
  {
   "cell_type": "markdown",
   "id": "oriented-courtesy",
   "metadata": {},
   "source": [
    "Предложение `else` является необязательным, и его обычно используют с оператором `break` в блоке кода цикла. Здесь `break` и `continue` работают так же, как в цикле `for`."
   ]
  },
  {
   "cell_type": "markdown",
   "id": "limited-threshold",
   "metadata": {},
   "source": [
    "Бывают ситуации, когда нужен бесконечный цикл. Например, приложения с графическим интерфейсом пользователя работают в бесконечном цикле, который управляет пользовательскими событиями. Этому циклу требуется оператор `break`, чтобы завершить цикл, когда, например, пользователь выходит из приложения. В противном случае приложение продолжало бы работать вечно."
   ]
  },
  {
   "cell_type": "markdown",
   "id": "romantic-anatomy",
   "metadata": {},
   "source": [
    "## Обработка ошибок"
   ]
  },
  {
   "cell_type": "markdown",
   "id": "mounted-breeding",
   "metadata": {},
   "source": [
    "### Исключения и синтаксические ошибки"
   ]
  },
  {
   "cell_type": "markdown",
   "id": "appreciated-blade",
   "metadata": {},
   "source": [
    "Программа Python завершается, как только обнаруживает ошибку. В Python ошибка может быть **синтаксической ошибкой** или **исключением**."
   ]
  },
  {
   "cell_type": "markdown",
   "id": "monthly-booth",
   "metadata": {},
   "source": [
    "Синтаксические ошибки возникают, когда парсер обнаруживает неверный оператор. Обратите внимание на следующий пример:\n"
   ]
  },
  {
   "cell_type": "code",
   "execution_count": 20,
   "id": "prompt-parliament",
   "metadata": {},
   "outputs": [
    {
     "ename": "SyntaxError",
     "evalue": "unmatched ')' (<ipython-input-20-c3931f671051>, line 1)",
     "output_type": "error",
     "traceback": [
      "\u001b[0;36m  File \u001b[0;32m\"<ipython-input-20-c3931f671051>\"\u001b[0;36m, line \u001b[0;32m1\u001b[0m\n\u001b[0;31m    print( 0 / 0 ))\u001b[0m\n\u001b[0m                  ^\u001b[0m\n\u001b[0;31mSyntaxError\u001b[0m\u001b[0;31m:\u001b[0m unmatched ')'\n"
     ]
    }
   ],
   "source": [
    "print( 0 / 0 ))"
   ]
  },
  {
   "cell_type": "markdown",
   "id": "useful-department",
   "metadata": {},
   "source": [
    "Стрелка указывает, где парсер обнаружил синтаксическую ошибку. В этом примере лишняя скобка. Удалите ее и снова запустите свой код:"
   ]
  },
  {
   "cell_type": "code",
   "execution_count": 21,
   "id": "meaning-above",
   "metadata": {},
   "outputs": [
    {
     "ename": "ZeroDivisionError",
     "evalue": "division by zero",
     "output_type": "error",
     "traceback": [
      "\u001b[0;31m---------------------------------------------------------------------------\u001b[0m",
      "\u001b[0;31mZeroDivisionError\u001b[0m                         Traceback (most recent call last)",
      "\u001b[0;32m<ipython-input-21-f5008b880c58>\u001b[0m in \u001b[0;36m<module>\u001b[0;34m\u001b[0m\n\u001b[0;32m----> 1\u001b[0;31m \u001b[0mprint\u001b[0m\u001b[0;34m(\u001b[0m \u001b[0;36m0\u001b[0m \u001b[0;34m/\u001b[0m \u001b[0;36m0\u001b[0m \u001b[0;34m)\u001b[0m\u001b[0;34m\u001b[0m\u001b[0;34m\u001b[0m\u001b[0m\n\u001b[0m",
      "\u001b[0;31mZeroDivisionError\u001b[0m: division by zero"
     ]
    }
   ],
   "source": [
    "print( 0 / 0 )"
   ]
  },
  {
   "cell_type": "markdown",
   "id": "labeled-hybrid",
   "metadata": {},
   "source": [
    "На этот раз вы столкнулись с ошибкой исключения. Этот тип ошибки возникает всякий раз, когда синтаксически правильный код Python приводит к ошибке. В последней строке сообщения указано, с каким типом ошибки исключения вы столкнулись."
   ]
  },
  {
   "cell_type": "markdown",
   "id": "cheap-carnival",
   "metadata": {},
   "source": [
    "Вместо того, чтобы показывать ошибку исключения сообщения, Python детализирует, какой тип ошибки исключения был обнаружен. В данном случае это была ошибка `ZeroDivisionError`. В Python существуют различные встроенные исключения, а также возможность создавать самоопределяемые исключения."
   ]
  },
  {
   "cell_type": "markdown",
   "id": "hungry-electricity",
   "metadata": {},
   "source": [
    "### Вызов исключения"
   ]
  },
  {
   "cell_type": "markdown",
   "id": "horizontal-shareware",
   "metadata": {},
   "source": [
    "Мы можем использовать вызов исключения, чтобы сгенерировать исключение при каком-то условии."
   ]
  },
  {
   "cell_type": "code",
   "execution_count": 23,
   "id": "simple-delay",
   "metadata": {},
   "outputs": [
    {
     "ename": "Exception",
     "evalue": "x should not exceed 5. The value of x was: 10",
     "output_type": "error",
     "traceback": [
      "\u001b[0;31m---------------------------------------------------------------------------\u001b[0m",
      "\u001b[0;31mException\u001b[0m                                 Traceback (most recent call last)",
      "\u001b[0;32m<ipython-input-23-3dcc1a597936>\u001b[0m in \u001b[0;36m<module>\u001b[0;34m\u001b[0m\n\u001b[1;32m      1\u001b[0m \u001b[0mx\u001b[0m \u001b[0;34m=\u001b[0m \u001b[0;36m10\u001b[0m\u001b[0;34m\u001b[0m\u001b[0;34m\u001b[0m\u001b[0m\n\u001b[1;32m      2\u001b[0m \u001b[0;32mif\u001b[0m \u001b[0mx\u001b[0m \u001b[0;34m>\u001b[0m \u001b[0;36m5\u001b[0m\u001b[0;34m:\u001b[0m\u001b[0;34m\u001b[0m\u001b[0;34m\u001b[0m\u001b[0m\n\u001b[0;32m----> 3\u001b[0;31m     \u001b[0;32mraise\u001b[0m \u001b[0mException\u001b[0m\u001b[0;34m(\u001b[0m\u001b[0;34m'x should not exceed 5. The value of x was: {}'\u001b[0m\u001b[0;34m.\u001b[0m\u001b[0mformat\u001b[0m\u001b[0;34m(\u001b[0m\u001b[0mx\u001b[0m\u001b[0;34m)\u001b[0m\u001b[0;34m)\u001b[0m\u001b[0;34m\u001b[0m\u001b[0;34m\u001b[0m\u001b[0m\n\u001b[0m",
      "\u001b[0;31mException\u001b[0m: x should not exceed 5. The value of x was: 10"
     ]
    }
   ],
   "source": [
    "x = 10\n",
    "if x > 5:\n",
    "    raise Exception('x should not exceed 5. The value of x was: {}'.format(x))"
   ]
  },
  {
   "cell_type": "markdown",
   "id": "institutional-civilian",
   "metadata": {},
   "source": [
    "Программа останавливается и отображает наше исключение на экране, предлагая подсказки о том, что пошло не так."
   ]
  },
  {
   "cell_type": "markdown",
   "id": "synthetic-convenience",
   "metadata": {},
   "source": [
    "### Обработка исключений"
   ]
  },
  {
   "cell_type": "markdown",
   "id": "going-jungle",
   "metadata": {},
   "source": [
    "#### try/except"
   ]
  },
  {
   "cell_type": "markdown",
   "id": "smart-mentor",
   "metadata": {},
   "source": [
    "Блок `try` и `except` в Python используется для перехвата и обработки исключений. Python выполняет код, следующий за оператором `try`, как «нормальную» часть программы. Код, следующий за оператором `except`, является ответом программы на любые исключения в предыдущем блоке `try`."
   ]
  },
  {
   "cell_type": "markdown",
   "id": "neural-freight",
   "metadata": {},
   "source": [
    "Как вы видели ранее, когда синтаксически правильный код сталкивается с ошибкой, Python выдает ошибку исключения. Эта ошибка исключения приведет к сбою программы, если она не будет обработана. Предложение `except` определяет, как ваша программа реагирует на исключения."
   ]
  },
  {
   "cell_type": "code",
   "execution_count": 27,
   "id": "inner-aquatic",
   "metadata": {},
   "outputs": [
    {
     "ename": "AssertionError",
     "evalue": "Function can only run on Linux systems.",
     "output_type": "error",
     "traceback": [
      "\u001b[0;31m---------------------------------------------------------------------------\u001b[0m",
      "\u001b[0;31mAssertionError\u001b[0m                            Traceback (most recent call last)",
      "\u001b[0;32m<ipython-input-27-98b58e557371>\u001b[0m in \u001b[0;36m<module>\u001b[0;34m\u001b[0m\n\u001b[1;32m      1\u001b[0m \u001b[0;32mimport\u001b[0m \u001b[0msys\u001b[0m\u001b[0;34m\u001b[0m\u001b[0;34m\u001b[0m\u001b[0m\n\u001b[0;32m----> 2\u001b[0;31m \u001b[0;32massert\u001b[0m \u001b[0;34m(\u001b[0m\u001b[0;34m'linux'\u001b[0m \u001b[0;32min\u001b[0m \u001b[0msys\u001b[0m\u001b[0;34m.\u001b[0m\u001b[0mplatform\u001b[0m\u001b[0;34m)\u001b[0m\u001b[0;34m,\u001b[0m \u001b[0;34m\"Function can only run on Linux systems.\"\u001b[0m\u001b[0;34m\u001b[0m\u001b[0;34m\u001b[0m\u001b[0m\n\u001b[0m",
      "\u001b[0;31mAssertionError\u001b[0m: Function can only run on Linux systems."
     ]
    }
   ],
   "source": [
    "import sys\n",
    "assert ('linux' in sys.platform), \"Function can only run on Linux systems.\""
   ]
  },
  {
   "cell_type": "markdown",
   "id": "sweet-desire",
   "metadata": {},
   "source": [
    "`'linux' in sys.platform` вернет True только в системе `Linux`. Если вы попытаетесь выполнить код в операционной системе, отличной от `Linux`, произойдет исключение `AssertionError`."
   ]
  },
  {
   "cell_type": "code",
   "execution_count": null,
   "id": "foster-logging",
   "metadata": {},
   "outputs": [],
   "source": [
    "try:\n",
    "    assert ('linux' in sys.platform), \"Function can only run on Linux systems.\"\n",
    "    print('Doing something.')\n",
    "except AssertionError as error:\n",
    "    print(error)\n",
    "    print('Linux function was not executed')"
   ]
  },
  {
   "cell_type": "markdown",
   "id": "lined-pierre",
   "metadata": {},
   "source": [
    "В коде выше мы обработали исключение. Если бы вы запустили этот код на машине с `Windows`, вы бы получили следующий результат: "
   ]
  },
  {
   "cell_type": "markdown",
   "id": "referenced-festival",
   "metadata": {},
   "source": [
    "```Python\n",
    "Function can only run on Linux systems.\n",
    "Linux function was not executed\n",
    "```"
   ]
  },
  {
   "cell_type": "markdown",
   "id": "advisory-couple",
   "metadata": {},
   "source": [
    "```{warning}\n",
    "Перехват исключений скрывает все ошибки… даже совершенно неожиданные. Вот почему вам следует избегать голых исключений в ваших программах на Python. Вместо этого вам нужно обращаться к конкретным классам исключений, которые вы хотите перехватывать и обрабатывать.\n",
    "```"
   ]
  },
  {
   "cell_type": "markdown",
   "id": "electric-hungary",
   "metadata": {},
   "source": [
    "* Предложение `try` выполняется до момента, когда встречается первое исключение.\n",
    "* Внутри предложения `except` или обработчика исключения вы определяете, как программа реагирует на исключение.\n",
    "* Вы можете предвидеть множественные исключения и различать, как программа должна на них реагировать.\n",
    "* Избегайте использования заглушек в блоке `except`."
   ]
  },
  {
   "cell_type": "markdown",
   "id": "former-entertainment",
   "metadata": {},
   "source": [
    "#### else"
   ]
  },
  {
   "cell_type": "markdown",
   "id": "fitted-terror",
   "metadata": {},
   "source": [
    "В Python с помощью оператора `else` вы можете указать программе выполнить определенный блок кода только при отсутствии исключений.\n",
    "\n",
    "Взгляните на следующий пример:"
   ]
  },
  {
   "cell_type": "code",
   "execution_count": 30,
   "id": "piano-candidate",
   "metadata": {},
   "outputs": [
    {
     "name": "stdout",
     "output_type": "stream",
     "text": [
      "Function can only run on Linux systems.\n"
     ]
    }
   ],
   "source": [
    "try:\n",
    "    assert ('linux' in sys.platform), \"Function can only run on Linux systems.\"\n",
    "    print('Doing something.')\n",
    "except AssertionError as error:\n",
    "    print(error)\n",
    "else:\n",
    "    print('Executing the else clause.')"
   ]
  },
  {
   "cell_type": "markdown",
   "id": "scheduled-subsection",
   "metadata": {},
   "source": [
    "Если бы вы запустили этот код в системе `Linux`, результат был бы следующим:"
   ]
  },
  {
   "cell_type": "markdown",
   "id": "diagnostic-protection",
   "metadata": {},
   "source": [
    "```Python\n",
    "Doing something.\n",
    "Executing the else clause.\n",
    "```"
   ]
  },
  {
   "cell_type": "markdown",
   "id": "forced-berry",
   "metadata": {},
   "source": [
    "Поскольку программа не столкнулась с какими-либо исключениями, было выполнено предложение `else`.\n",
    "Вы также можете попробовать запустить код внутри предложения `else` и отловить там возможные исключения:"
   ]
  },
  {
   "cell_type": "code",
   "execution_count": 32,
   "id": "horizontal-bachelor",
   "metadata": {},
   "outputs": [
    {
     "name": "stdout",
     "output_type": "stream",
     "text": [
      "Function can only run on Linux systems.\n"
     ]
    }
   ],
   "source": [
    "try:\n",
    "    assert ('linux' in sys.platform), \"Function can only run on Linux systems.\"\n",
    "    print('Doing something.')\n",
    "except AssertionError as error:\n",
    "    print(error)\n",
    "else:\n",
    "    try:\n",
    "        with open('file.log') as file:\n",
    "            read_data = file.read()\n",
    "    except FileNotFoundError as fnf_error:\n",
    "        print(fnf_error)"
   ]
  },
  {
   "cell_type": "markdown",
   "id": "loving-locator",
   "metadata": {},
   "source": [
    "Если бы вы выполнили этот код на машине `Linux`, вы бы получили следующий результат:"
   ]
  },
  {
   "cell_type": "markdown",
   "id": "emerging-extent",
   "metadata": {},
   "source": [
    "```Python\n",
    "Doing something.\n",
    "[Errno 2] No such file or directory: 'file.log'\n",
    "```"
   ]
  },
  {
   "cell_type": "markdown",
   "id": "innocent-watts",
   "metadata": {},
   "source": [
    "Из выходных данных вы можете видеть, что первый блок `try` был запущен. Поскольку никаких исключений не обнаружено, была сделана попытка открыть `file.log`. Этот файл не существует, и вместо его открытия вы поймали исключение `FileNotFoundError`."
   ]
  },
  {
   "cell_type": "markdown",
   "id": "governmental-patrick",
   "metadata": {},
   "source": [
    "#### finally"
   ]
  },
  {
   "cell_type": "markdown",
   "id": "revolutionary-inflation",
   "metadata": {},
   "source": [
    "Представьте, что вам всегда бы приходилось выполнять какое-то действие для очистки после выполнения вашего кода. Python позволяет сделать это с помощью предложения `finally`.\n",
    "\n",
    "Взгляните на следующий пример:"
   ]
  },
  {
   "cell_type": "code",
   "execution_count": 34,
   "id": "checked-tissue",
   "metadata": {},
   "outputs": [
    {
     "name": "stdout",
     "output_type": "stream",
     "text": [
      "Function can only run on Linux systems.\n",
      "Cleaning up, irrespective of any exceptions.\n"
     ]
    }
   ],
   "source": [
    "try:\n",
    "    assert ('linux' in sys.platform), \"Function can only run on Linux systems.\"\n",
    "    print('Doing something.')\n",
    "except AssertionError as error:\n",
    "    print(error)\n",
    "else:\n",
    "    try:\n",
    "        with open('file.log') as file:\n",
    "            read_data = file.read()\n",
    "    except FileNotFoundError as fnf_error:\n",
    "        print(fnf_error)\n",
    "finally:\n",
    "    print('Cleaning up, irrespective of any exceptions.')"
   ]
  },
  {
   "cell_type": "markdown",
   "id": "governing-norfolk",
   "metadata": {},
   "source": [
    "В коде выше всё, что указано в предложении finally, будет выполнено. Не имеет значения, встретите ли вы исключение где-нибудь в блоках `try` или `else`. "
   ]
  },
  {
   "cell_type": "markdown",
   "id": "stretch-party",
   "metadata": {},
   "source": [
    "Выполнение этого кода на компьютере с `Windows` приведет к следующему:"
   ]
  },
  {
   "cell_type": "markdown",
   "id": "infrared-drive",
   "metadata": {},
   "source": [
    "```Python\n",
    "Function can only run on Linux systems.\n",
    "Cleaning up, irrespective of any exceptions.\n",
    "```"
   ]
  }
 ],
 "metadata": {
  "kernelspec": {
   "display_name": "Python 3",
   "language": "python",
   "name": "python3"
  },
  "language_info": {
   "codemirror_mode": {
    "name": "ipython",
    "version": 3
   },
   "file_extension": ".py",
   "mimetype": "text/x-python",
   "name": "python",
   "nbconvert_exporter": "python",
   "pygments_lexer": "ipython3",
   "version": "3.8.2"
  }
 },
 "nbformat": 4,
 "nbformat_minor": 5
}
