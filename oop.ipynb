{
 "cells": [
  {
   "cell_type": "markdown",
   "id": "placed-spirit",
   "metadata": {},
   "source": [
    "# Object-oriented programming (OOP)"
   ]
  },
  {
   "cell_type": "markdown",
   "id": "diagnostic-justice",
   "metadata": {},
   "source": [
    "## Классы"
   ]
  },
  {
   "cell_type": "markdown",
   "id": "seventh-fifty",
   "metadata": {},
   "source": [
    "Ранее мы рассмотрели две парадигмы программирования - **императивную** (с использованием операторов, циклов и функций в качестве подпрограмм) и **функциональную** (с использованием чистых функций, функций высшего порядка)."
   ]
  },
  {
   "cell_type": "markdown",
   "id": "lonely-swift",
   "metadata": {},
   "source": [
    "Еще одна очень популярная парадигма - **объектно-ориентированное программирование** (ООП).  \n",
    "Объекты создаются с использованием **классов**, которые на самом деле являются фокусом ООП.\n",
    "Класс описывает, каким будет объект, но отделен от самого объекта. Другими словами, класс можно описать как план, описание или определение объекта.  \n",
    "Вы можете использовать один и тот же класс в качестве чертежа для создания нескольких различных объектов."
   ]
  },
  {
   "cell_type": "markdown",
   "id": "grave-branch",
   "metadata": {},
   "source": [
    "Классы создаются с использованием ключевого слова **class** и блока с отступом, который содержит **методы класса** (которые являются функциями).\n",
    "Ниже приведен пример простого класса и его объектов."
   ]
  },
  {
   "cell_type": "code",
   "execution_count": 1,
   "id": "fuzzy-antique",
   "metadata": {},
   "outputs": [],
   "source": [
    "class Cat:\n",
    "    def __init__(self, color, legs):\n",
    "        self.color = color\n",
    "        self.legs = legs\n",
    "\n",
    "felix = Cat(\"ginger\", 4)\n",
    "rover = Cat(\"dog-colored\", 4)\n",
    "stumpy = Cat(\"brown\", 3)"
   ]
  },
  {
   "cell_type": "markdown",
   "id": "greater-folder",
   "metadata": {},
   "source": [
    "Этот код определяет класс с именем `Cat`, который имеет два атрибута: `color` и `legs`.  \n",
    "Затем класс используется для создания 3-х отдельных объектов этого класса."
   ]
  },
  {
   "cell_type": "markdown",
   "id": "developing-jackson",
   "metadata": {},
   "source": [
    "### `__init__`"
   ]
  },
  {
   "cell_type": "markdown",
   "id": "cordless-confirmation",
   "metadata": {},
   "source": [
    "Метод `__init__` - самый важный метод в классе.  \n",
    "Он вызывается при создании экземпляра (объекта) класса с использованием имени класса в качестве функции."
   ]
  },
  {
   "cell_type": "markdown",
   "id": "artificial-mercy",
   "metadata": {},
   "source": [
    "Все методы должны иметь в качестве первого параметра `self`. Хотя он явно не передается, Python добавляет аргумент `self` в список за вас; вам не нужно включать его при вызове методов. В определении метода `self` относится к экземпляру, вызывающему метод."
   ]
  },
  {
   "cell_type": "markdown",
   "id": "fitting-literacy",
   "metadata": {},
   "source": [
    "Экземпляры класса имеют **атрибуты**, которые представляют собой связанные с ними фрагменты данных.  \n",
    "В этом примере экземпляры `Cat` имеют атрибуты `color` и `leg`s. К ним можно получить доступ, поставив точку и имя атрибута после экземпляра.  \n",
    "Таким образом, в методе `__init__` `self.attribute` может использоваться для установки начального значения атрибутов экземпляра."
   ]
  },
  {
   "cell_type": "code",
   "execution_count": 3,
   "id": "cooperative-execution",
   "metadata": {},
   "outputs": [
    {
     "name": "stdout",
     "output_type": "stream",
     "text": [
      "ginger\n"
     ]
    }
   ],
   "source": [
    "class Cat:\n",
    "    def __init__(self, color, legs):\n",
    "        self.color = color\n",
    "        self.legs = legs\n",
    "\n",
    "felix = Cat(\"ginger\", 4)\n",
    "print(felix.color)"
   ]
  },
  {
   "cell_type": "markdown",
   "id": "prepared-perfume",
   "metadata": {},
   "source": [
    "В приведенном выше примере метод `__init__` принимает два аргумента и назначает их атрибутам объекта. Метод `__init__` называется **конструктором класса**."
   ]
  },
  {
   "cell_type": "markdown",
   "id": "asian-pension",
   "metadata": {},
   "source": [
    "### Методы "
   ]
  },
  {
   "cell_type": "markdown",
   "id": "insured-cincinnati",
   "metadata": {},
   "source": [
    "Классы могут иметь другие **методы**, определенные для добавления к ним функциональности.  \n",
    "Помните, что все методы должны иметь в качестве первого параметра `self`.  \n",
    "Доступ к этим методам осуществляется с использованием того же синтаксиса точек, что и для атрибутов.  "
   ]
  },
  {
   "cell_type": "code",
   "execution_count": 4,
   "id": "existing-special",
   "metadata": {
    "scrolled": true
   },
   "outputs": [
    {
     "name": "stdout",
     "output_type": "stream",
     "text": [
      "brown\n",
      "Woof!\n"
     ]
    }
   ],
   "source": [
    "class Dog:\n",
    "    def __init__(self, color, name):\n",
    "        self.color = color\n",
    "        self.name = name\n",
    "        \n",
    "    def bark(self):\n",
    "        print('Woof!')\n",
    "\n",
    "fido = Dog('Fido', 'brown')\n",
    "print(fido.name)\n",
    "fido.bark()"
   ]
  },
  {
   "cell_type": "markdown",
   "id": "silver-twelve",
   "metadata": {},
   "source": [
    "Классы также могут иметь **атрибуты класса**, созданные путем присвоения переменных в теле класса. К ним можно получить доступ либо из экземпляров класса, либо из самого класса."
   ]
  },
  {
   "cell_type": "code",
   "execution_count": 5,
   "id": "incoming-mouth",
   "metadata": {},
   "outputs": [
    {
     "name": "stdout",
     "output_type": "stream",
     "text": [
      "4\n",
      "4\n"
     ]
    }
   ],
   "source": [
    "class Dog:\n",
    "    legs = 4\n",
    "    def __init__(self, name, color):\n",
    "        self.name = name\n",
    "        self.color = color\n",
    "        \n",
    "    def bark(self):\n",
    "        print('Woof!')\n",
    "\n",
    "fido = Dog('Fido', 'brown')\n",
    "print(fido.legs)\n",
    "print(Dog.legs)"
   ]
  },
  {
   "cell_type": "markdown",
   "id": "extreme-laugh",
   "metadata": {},
   "source": [
    "Атрибуты класса являются общими для всех экземпляров класса."
   ]
  },
  {
   "cell_type": "markdown",
   "id": "valid-planet",
   "metadata": {},
   "source": [
    "Попытка получить доступ к атрибуту экземпляра, который не определен, вызывает ошибку `AttributeError`. Это также происходит, когда вы вызываете неопределенный метод."
   ]
  },
  {
   "cell_type": "code",
   "execution_count": 8,
   "id": "academic-adjustment",
   "metadata": {},
   "outputs": [
    {
     "ename": "AttributeError",
     "evalue": "'Rectangle' object has no attribute 'color'",
     "output_type": "error",
     "traceback": [
      "\u001b[0;31m---------------------------------------------------------------------------\u001b[0m",
      "\u001b[0;31mAttributeError\u001b[0m                            Traceback (most recent call last)",
      "\u001b[0;32m<ipython-input-8-f94adae8ff8b>\u001b[0m in \u001b[0;36m<module>\u001b[0;34m\u001b[0m\n\u001b[1;32m      5\u001b[0m \u001b[0;34m\u001b[0m\u001b[0m\n\u001b[1;32m      6\u001b[0m \u001b[0mrect\u001b[0m \u001b[0;34m=\u001b[0m \u001b[0mRectangle\u001b[0m\u001b[0;34m(\u001b[0m\u001b[0;36m7\u001b[0m\u001b[0;34m,\u001b[0m \u001b[0;36m8\u001b[0m\u001b[0;34m)\u001b[0m\u001b[0;34m\u001b[0m\u001b[0;34m\u001b[0m\u001b[0m\n\u001b[0;32m----> 7\u001b[0;31m \u001b[0mprint\u001b[0m\u001b[0;34m(\u001b[0m\u001b[0mrect\u001b[0m\u001b[0;34m.\u001b[0m\u001b[0mcolor\u001b[0m\u001b[0;34m)\u001b[0m\u001b[0;34m\u001b[0m\u001b[0;34m\u001b[0m\u001b[0m\n\u001b[0m",
      "\u001b[0;31mAttributeError\u001b[0m: 'Rectangle' object has no attribute 'color'"
     ]
    }
   ],
   "source": [
    "class Rectangle:\n",
    "    def __init__(self, width, height):\n",
    "        self.width = width\n",
    "        self.height = height\n",
    "\n",
    "rect = Rectangle(7, 8)\n",
    "print(rect.color)"
   ]
  },
  {
   "cell_type": "markdown",
   "id": "negative-chancellor",
   "metadata": {},
   "source": [
    "## Наследование"
   ]
  },
  {
   "cell_type": "markdown",
   "id": "featured-andorra",
   "metadata": {},
   "source": [
    "**Наследование** дает возможность разделять функциональные возможности между классами.  \n",
    "Представьте себе несколько классов: `Cat`, `Dog`, `Rabbit` и так далее. Хотя они могут отличаться в некоторых отношениях (только `Dog` может иметь метод `bark`), они, вероятно, будут похожи в других (все имеют атрибуты `color` и `name`).  \n",
    "Это сходство может быть выражено, если все они унаследованы от **суперкласса** `Animal`, который содержит общие функции.  \n",
    "Чтобы унаследовать класс от другого класса, поместите имя суперкласса в круглые скобки после имени класса."
   ]
  },
  {
   "cell_type": "code",
   "execution_count": 9,
   "id": "spectacular-embassy",
   "metadata": {},
   "outputs": [
    {
     "name": "stdout",
     "output_type": "stream",
     "text": [
      "brown\n",
      "Woof!\n"
     ]
    }
   ],
   "source": [
    "class Animal:\n",
    "    def __init__(self, name, color):\n",
    "        self.name = name\n",
    "        self.color = color\n",
    "        \n",
    "class Cat(Animal):\n",
    "    def purr(self):\n",
    "        print('Purr...')\n",
    "\n",
    "class Dog(Animal):\n",
    "    def bark(self):\n",
    "        print('Woof!')\n",
    "\n",
    "fido = Dog('Fido', 'brown')\n",
    "print(fido.color)\n",
    "fido.bark()"
   ]
  },
  {
   "cell_type": "markdown",
   "id": "expected-examination",
   "metadata": {},
   "source": [
    "Класс, который наследуется от другого класса, называется **подклассом**. \n",
    "Класс, от которого другой класс унаследован, называется **суперклассом**. \n",
    "Если класс наследуется от другого с такими же атрибутами или методами, он переопределяет их."
   ]
  },
  {
   "cell_type": "code",
   "execution_count": 11,
   "id": "superb-sense",
   "metadata": {},
   "outputs": [
    {
     "name": "stdout",
     "output_type": "stream",
     "text": [
      "Woof!\n"
     ]
    }
   ],
   "source": [
    "class Wolf:\n",
    "    def __init__(self, name, color):\n",
    "        self.name = name\n",
    "        self.color = color\n",
    "    \n",
    "    def bark(self):\n",
    "        print('Grr...')\n",
    "\n",
    "class Dog(Wolf):\n",
    "    def bark(self):\n",
    "        print('Woof!')\n",
    "\n",
    "husky = Dog('Max', 'grey')\n",
    "husky.bark()"
   ]
  },
  {
   "cell_type": "markdown",
   "id": "religious-aviation",
   "metadata": {},
   "source": [
    "В приведенном выше примере `Wolf` - это суперкласс, `Dog` - подкласс."
   ]
  },
  {
   "cell_type": "markdown",
   "id": "likely-static",
   "metadata": {},
   "source": [
    "Наследование также может быть косвенным. Один класс может наследоваться от другого, и этот класс может наследоваться от третьего класса."
   ]
  },
  {
   "cell_type": "code",
   "execution_count": 13,
   "id": "earned-metallic",
   "metadata": {},
   "outputs": [
    {
     "name": "stdout",
     "output_type": "stream",
     "text": [
      "A method\n",
      "B method\n",
      "C method\n"
     ]
    }
   ],
   "source": [
    "class A:\n",
    "    def method(self):\n",
    "        print('A method')\n",
    "\n",
    "class B(A):\n",
    "    def another_method(self):\n",
    "        print('B method')\n",
    "        \n",
    "class C(B):\n",
    "    def third_method(self):\n",
    "        print('C method')\n",
    "\n",
    "c = C()\n",
    "c.method()\n",
    "c.another_method()\n",
    "c.third_method()"
   ]
  },
  {
   "cell_type": "markdown",
   "id": "meaningful-worcester",
   "metadata": {},
   "source": [
    "Однако циклическое наследование невозможно."
   ]
  },
  {
   "cell_type": "markdown",
   "id": "productive-content",
   "metadata": {},
   "source": [
    "Функция `super` - это полезная функция, связанная с наследованием, которая обращается к родительскому классу. Его можно использовать для поиска метода с определенным именем в суперклассе объекта."
   ]
  },
  {
   "cell_type": "code",
   "execution_count": 14,
   "id": "taken-conjunction",
   "metadata": {},
   "outputs": [
    {
     "name": "stdout",
     "output_type": "stream",
     "text": [
      "2\n",
      "1\n"
     ]
    }
   ],
   "source": [
    "class A:\n",
    "    def spam(self):\n",
    "        print(1)\n",
    "\n",
    "class B(A):\n",
    "    def spam(self):\n",
    "        print(2)\n",
    "        super().spam()\n",
    "\n",
    "B().spam()"
   ]
  },
  {
   "cell_type": "markdown",
   "id": "structured-membership",
   "metadata": {},
   "source": [
    "`super().spam()` вызывает метод `spam` суперкласса."
   ]
  },
  {
   "cell_type": "markdown",
   "id": "executed-oxford",
   "metadata": {},
   "source": [
    "## Магические методы (dunders) и перегрузка операторов"
   ]
  },
  {
   "cell_type": "markdown",
   "id": "early-realtor",
   "metadata": {},
   "source": [
    "**Магические методы** - это специальные методы, у которых в начале и в конце названия есть двойное подчеркивание.\n",
    "Они также известны как **dunders**.\n",
    "Пока что мы столкнулись только с `__init__`, но есть и другие.\n",
    "Они используются для создания функциональности, которую нельзя представить как обычный метод."
   ]
  },
  {
   "cell_type": "markdown",
   "id": "burning-grass",
   "metadata": {},
   "source": [
    "Одним из распространенных способов их использования является **перегрузка оператора**.\n",
    "Это означает определение операторов для пользовательских классов, которые позволяют использовать с ними такие операторы, как `+` и `*`.  \n",
    "\n",
    "Примером магического метода является `__add__` для `+`."
   ]
  },
  {
   "cell_type": "code",
   "execution_count": 1,
   "id": "novel-maria",
   "metadata": {},
   "outputs": [
    {
     "name": "stdout",
     "output_type": "stream",
     "text": [
      "8\n",
      "16\n"
     ]
    }
   ],
   "source": [
    "class Vector2D:\n",
    "    def __init__(self, x, y):\n",
    "        self.x = x\n",
    "        self.y = y\n",
    "    \n",
    "    def __add__(self, other):\n",
    "        return Vector2D(self.x + other.x, self.y + other.y)\n",
    "\n",
    "first = Vector2D(5, 7)\n",
    "second = Vector2D(3, 9)\n",
    "\n",
    "result = first + second\n",
    "print(result.x)\n",
    "print(result.y)"
   ]
  },
  {
   "cell_type": "markdown",
   "id": "threaded-radius",
   "metadata": {},
   "source": [
    "Метод `__add__` позволяет определять настраиваемое поведение для оператора `+` в нашем классе.  \n",
    "Как видите, он добавляет соответствующие атрибуты объектов и возвращает новый объект, содержащий результат.  \n",
    "Как только он определен, мы можем добавить два объекта класса вместе."
   ]
  },
  {
   "cell_type": "markdown",
   "id": "passive-extraction",
   "metadata": {},
   "source": [
    "Дополнительные магические методы для общих операторов:  \n",
    "\n",
    "`__sub__` для -  \n",
    "\n",
    "`__mul__` для \\*  \n",
    "\n",
    "`__truediv__` для /  \n",
    "\n",
    "`__floordiv__` для //  \n",
    "\n",
    "`__mod__` для %  \n",
    "\n",
    "`__pow__` для \\*\\*  \n",
    "\n",
    "`__and__` для &  \n",
    "\n",
    "`__xor__` для ^  \n",
    "\n",
    "`__or__` для |  \n"
   ]
  },
  {
   "cell_type": "markdown",
   "id": "auburn-sample",
   "metadata": {},
   "source": [
    "Выражение `x + y` переводится в `x.__add__(y)`.  \n",
    "Однако, если `x` не реализовал `__add__`, а `x` и `y` имеют разные типы, то вызывается `y.__radd__(x)`.  \n",
    "\n",
    "Для всех только что упомянутых магических методов существуют эквивалентные **r-методы**."
   ]
  },
  {
   "cell_type": "code",
   "execution_count": 3,
   "id": "retired-player",
   "metadata": {},
   "outputs": [
    {
     "name": "stdout",
     "output_type": "stream",
     "text": [
      "spam\n",
      "============\n",
      "Hello World!\n"
     ]
    }
   ],
   "source": [
    "class SpecialString:\n",
    "    def __init__(self, cont):\n",
    "        self.cont = cont\n",
    "    \n",
    "    def __truediv__(self, other):\n",
    "        line = '=' * len(other.cont)\n",
    "        return '\\n'.join([self.cont, line, other.cont])\n",
    "    \n",
    "spam = SpecialString('spam')\n",
    "hello = SpecialString('Hello World!')\n",
    "print(spam / hello)"
   ]
  },
  {
   "cell_type": "markdown",
   "id": "applicable-conditions",
   "metadata": {},
   "source": [
    "В приведенном выше примере мы определили **операцию деления** для нашего класса `SpecialString`."
   ]
  },
  {
   "cell_type": "markdown",
   "id": "liquid-maldives",
   "metadata": {},
   "source": [
    "Python также предоставляет магические методы для сравнения.\n",
    "\n",
    "`__lt__` для <\n",
    "\n",
    "`__le__` для <=\n",
    "\n",
    "`__eq__` для ==\n",
    "\n",
    "`__ne__` для !=\n",
    "\n",
    "`__gt__` для >\n",
    "\n",
    "`__ge__` для> ="
   ]
  },
  {
   "cell_type": "markdown",
   "id": "burning-regard",
   "metadata": {},
   "source": [
    "Если `__ne__` не реализован, он возвращает противоположность `__eq__`.\n",
    "Других отношений между другими операторами нет."
   ]
  },
  {
   "cell_type": "code",
   "execution_count": 5,
   "id": "matched-garbage",
   "metadata": {},
   "outputs": [
    {
     "name": "stdout",
     "output_type": "stream",
     "text": [
      ">spam>eggs\n",
      "e>spam>ggs\n",
      "eg>spam>gs\n",
      "egg>spam>s\n",
      "eggs>spam>\n"
     ]
    }
   ],
   "source": [
    "class SpecialString:\n",
    "    def __init__(self, cont):\n",
    "        self.cont = cont\n",
    "    \n",
    "    def __gt__(self, other):\n",
    "        for index in range(len(other.cont) + 1):\n",
    "            result = other.cont[:index] + '>' + self.cont\n",
    "            result += '>' + other.cont[index:]\n",
    "            print(result)\n",
    "    \n",
    "spam = SpecialString('spam')\n",
    "eggs = SpecialString('eggs')\n",
    "spam > eggs"
   ]
  },
  {
   "cell_type": "markdown",
   "id": "academic-norwegian",
   "metadata": {},
   "source": [
    "Как видите, вы можете определить любое настраиваемое поведение для перегруженных операторов."
   ]
  },
  {
   "cell_type": "markdown",
   "id": "mineral-ireland",
   "metadata": {},
   "source": [
    "Есть несколько волшебных способов заставить классы действовать как контейнеры.\n",
    "\n",
    "`__len__` для `len()`\n",
    "\n",
    "`__getitem__` для индексации\n",
    "\n",
    "`__setitem__` для присвоения индексированным значениям\n",
    "\n",
    "`__delitem__` для удаления индексированных значений\n",
    "\n",
    "`__iter__` для итерации по объектам (например, в циклах `for`)\n",
    "\n",
    "`__contains__` для `in`"
   ]
  },
  {
   "cell_type": "markdown",
   "id": "beginning-tackle",
   "metadata": {},
   "source": [
    "Есть много других магических методов, которые мы здесь не будем рассматривать, например `__call__` для вызова объектов как функций и `__int__`, `__str__` и т.п. для преобразования объектов во встроенные типы."
   ]
  },
  {
   "cell_type": "code",
   "execution_count": 10,
   "id": "white-gathering",
   "metadata": {},
   "outputs": [
    {
     "name": "stdout",
     "output_type": "stream",
     "text": [
      "10\n",
      "1\n",
      "C\n",
      "B\n"
     ]
    }
   ],
   "source": [
    "import random\n",
    "\n",
    "class VagueList:\n",
    "    def __init__(self, cont):\n",
    "        self.cont = cont\n",
    "    \n",
    "    def __getitem__(self, index):\n",
    "        return self.cont[index + random.randint(-1, 1)]\n",
    "    \n",
    "    def __len__(self):\n",
    "        return random.randint(0, len(self.cont) * 2)\n",
    "\n",
    "vague_list = VagueList(['A', 'B', 'C', 'D', 'E'])\n",
    "print(len(vague_list))\n",
    "print(len(vague_list))\n",
    "print(vague_list[2])\n",
    "print(vague_list[2])"
   ]
  },
  {
   "cell_type": "markdown",
   "id": "assured-navigator",
   "metadata": {},
   "source": [
    "Мы переопределили функцию `len()` для класса `VagueList`, чтобы она возвращала случайное число.  \n",
    "Функция индексации также возвращает случайный элемент в диапазоне из списка на основе выражения."
   ]
  },
  {
   "cell_type": "markdown",
   "id": "indoor-timeline",
   "metadata": {},
   "source": [
    "## Сокрытие данных"
   ]
  },
  {
   "cell_type": "markdown",
   "id": "flush-brown",
   "metadata": {},
   "source": [
    "Ключевой частью объектно-ориентированного программирования является **инкапсуляция**, которая включает в себя упаковку связанных переменных и функций в один простой в использовании объект - экземпляр класса.  \n",
    "Связанная концепция - это **скрытие данных**, в котором говорится, что детали реализации класса должны быть скрыты, а для тех, кто хочет использовать этот класс, должен быть представлен чистый стандартный интерфейс.\n",
    "В других языках программирования это обычно делается с помощью частных методов и атрибутов, которые блокируют внешний доступ к определенным методам и атрибутам в классе."
   ]
  },
  {
   "cell_type": "markdown",
   "id": "parental-satellite",
   "metadata": {},
   "source": [
    "Философия Python немного отличается. Часто говорят, что «мы все здесь взрослые», что означает, что вы не должны вводить произвольные ограничения на доступ к частям класса. Следовательно, нет способов сделать метод или атрибут строго закрытым."
   ]
  },
  {
   "cell_type": "markdown",
   "id": "central-microphone",
   "metadata": {},
   "source": [
    "Однако есть способы отговорить людей от доступа к частям класса, например, указав, что это деталь реализации и что их следует использовать на свой страх и риск."
   ]
  },
  {
   "cell_type": "markdown",
   "id": "finite-optimization",
   "metadata": {},
   "source": [
    "Слабо закрытые методы и атрибуты имеют в начале **один знак подчеркивания**.  \n",
    "Это сигнализирует о том, что они являются частными и не должны использоваться внешним кодом. Однако это в основном лишь соглашение и не мешает внешнему коду получить к ним доступ.  \n",
    "Его единственный фактический эффект заключается в том, что **from module_name import *** не импортирует переменные, которые начинаются с одного символа подчеркивания."
   ]
  },
  {
   "cell_type": "code",
   "execution_count": 12,
   "id": "alternative-advocate",
   "metadata": {},
   "outputs": [
    {
     "name": "stdout",
     "output_type": "stream",
     "text": [
      "Queue([1, 2, 3])\n",
      "Queue([0, 1, 2, 3])\n",
      "Queue([0, 1, 2])\n",
      "[0, 1, 2]\n"
     ]
    }
   ],
   "source": [
    "class Queue:\n",
    "    def __init__(self, contents):\n",
    "        self._hidden_list = contents\n",
    "        \n",
    "    def push(self, value):\n",
    "        self._hidden_list.insert(0, value)\n",
    "        \n",
    "    def pop(self):\n",
    "        return self._hidden_list.pop(-1)\n",
    "    \n",
    "    def __repr__(self):\n",
    "        return f'Queue({self._hidden_list})'\n",
    "    \n",
    "queue = Queue([1, 2, 3])\n",
    "print(queue)\n",
    "queue.push(0)\n",
    "print(queue)\n",
    "queue.pop()\n",
    "print(queue)\n",
    "print(queue._hidden_list)"
   ]
  },
  {
   "cell_type": "markdown",
   "id": "based-campus",
   "metadata": {},
   "source": [
    "В приведенном выше коде атрибут `_hiddenlist` помечен как частный, но к нему по-прежнему можно получить доступ во внешнем коде.\n",
    "Магический метод `__repr__` используется для строкового представления экземпляра."
   ]
  },
  {
   "cell_type": "markdown",
   "id": "agreed-kernel",
   "metadata": {},
   "source": [
    "Сильно закрытые методы и атрибуты имеют **двойное подчеркивание** в начале их имен. Это приводит к искажению их имен, что означает, что к ним нельзя получить доступ извне класса.  \n",
    "Это делается не для того, чтобы гарантировать их конфиденциальность, а для того, чтобы избежать ошибок, если есть подклассы, у которых есть методы или атрибуты с одинаковыми именами.  \n",
    "Методы с измененным именем все еще доступны извне, но под другим именем. К методу `__privatemethod` класса `Spam` можно получить доступ извне с помощью `_Spam__privatemethod`."
   ]
  },
  {
   "cell_type": "code",
   "execution_count": 13,
   "id": "iraqi-distinction",
   "metadata": {},
   "outputs": [
    {
     "name": "stdout",
     "output_type": "stream",
     "text": [
      "7\n",
      "7\n"
     ]
    },
    {
     "ename": "AttributeError",
     "evalue": "'Spam' object has no attribute '__egg'",
     "output_type": "error",
     "traceback": [
      "\u001b[0;31m---------------------------------------------------------------------------\u001b[0m",
      "\u001b[0;31mAttributeError\u001b[0m                            Traceback (most recent call last)",
      "\u001b[0;32m<ipython-input-13-98bece7fa29e>\u001b[0m in \u001b[0;36m<module>\u001b[0;34m\u001b[0m\n\u001b[1;32m      8\u001b[0m \u001b[0ms\u001b[0m\u001b[0;34m.\u001b[0m\u001b[0mprint_egg\u001b[0m\u001b[0;34m(\u001b[0m\u001b[0;34m)\u001b[0m\u001b[0;34m\u001b[0m\u001b[0;34m\u001b[0m\u001b[0m\n\u001b[1;32m      9\u001b[0m \u001b[0mprint\u001b[0m\u001b[0;34m(\u001b[0m\u001b[0ms\u001b[0m\u001b[0;34m.\u001b[0m\u001b[0m_Spam__egg\u001b[0m\u001b[0;34m)\u001b[0m\u001b[0;34m\u001b[0m\u001b[0;34m\u001b[0m\u001b[0m\n\u001b[0;32m---> 10\u001b[0;31m \u001b[0mprint\u001b[0m\u001b[0;34m(\u001b[0m\u001b[0ms\u001b[0m\u001b[0;34m.\u001b[0m\u001b[0m__egg\u001b[0m\u001b[0;34m)\u001b[0m\u001b[0;34m\u001b[0m\u001b[0;34m\u001b[0m\u001b[0m\n\u001b[0m",
      "\u001b[0;31mAttributeError\u001b[0m: 'Spam' object has no attribute '__egg'"
     ]
    }
   ],
   "source": [
    "class Spam:\n",
    "    __egg = 7\n",
    "    \n",
    "    def print_egg(self):\n",
    "        print(self.__egg)\n",
    "\n",
    "s = Spam()\n",
    "s.print_egg()\n",
    "print(s._Spam__egg)\n",
    "print(s.__egg)"
   ]
  },
  {
   "cell_type": "markdown",
   "id": "offensive-cache",
   "metadata": {},
   "source": [
    "По сути, Python защищает эти атрибуты, внутренне изменяя их имя - добавляя имя класса."
   ]
  },
  {
   "cell_type": "markdown",
   "id": "marked-level",
   "metadata": {},
   "source": [
    "## Статические методы и методы класса"
   ]
  },
  {
   "cell_type": "markdown",
   "id": "organic-roman",
   "metadata": {},
   "source": [
    "### Методы класса"
   ]
  },
  {
   "cell_type": "markdown",
   "id": "experienced-biotechnology",
   "metadata": {},
   "source": [
    "Методы объектов, которые мы рассмотрели до сих пор, вызываются экземпляром класса, который затем передается в параметр `self` метода. \n",
    "**Методы класса** другие - они вызываются классом, который передается в параметр `cls` метода.  \n",
    "Обычно их используют фабричные методы, которые создают экземпляр класса, используя параметры, отличные от тех, которые обычно передаются конструктору класса.  \n",
    "Методы класса отмечены декоратором `classmethod`."
   ]
  },
  {
   "cell_type": "code",
   "execution_count": 16,
   "id": "considered-statistics",
   "metadata": {},
   "outputs": [
    {
     "name": "stdout",
     "output_type": "stream",
     "text": [
      "25\n"
     ]
    }
   ],
   "source": [
    "class Rectangle:\n",
    "    def __init__(self, width, height):\n",
    "        self.width = width\n",
    "        self.height = height\n",
    "        \n",
    "    def calculate_area(self):\n",
    "        return self.width * self.height\n",
    "    \n",
    "    @classmethod\n",
    "    def new_square(cls, side_length):\n",
    "        return cls(side_length, side_length)\n",
    "    \n",
    "square = Rectangle.new_square(5)\n",
    "print(square.calculate_area())"
   ]
  },
  {
   "cell_type": "markdown",
   "id": "assured-collaboration",
   "metadata": {},
   "source": [
    "`new_square` - это метод класса, который вызывается в классе, а не в экземпляре класса. Он возвращает новый объект класса `cls`."
   ]
  },
  {
   "cell_type": "markdown",
   "id": "ignored-injection",
   "metadata": {},
   "source": [
    "Технически параметры `self` и `cls` - всего лишь условные обозначения; их можно было поменять на что угодно. Тем не менее, они повсеместно соблюдаются, поэтому разумно их использовать."
   ]
  },
  {
   "cell_type": "markdown",
   "id": "satisfactory-gallery",
   "metadata": {},
   "source": [
    "### Статические методы"
   ]
  },
  {
   "cell_type": "markdown",
   "id": "opened-solution",
   "metadata": {},
   "source": [
    "**Статические методы** похожи на методы класса, за исключением того, что они не получают никаких дополнительных аргументов; они идентичны обычным функциям, принадлежащим классу.  \n",
    "Они отмечены декоратором `staticmethod`."
   ]
  },
  {
   "cell_type": "code",
   "execution_count": 17,
   "id": "atlantic-agriculture",
   "metadata": {},
   "outputs": [],
   "source": [
    "class Pizza:\n",
    "    def __init__(self, toppings):\n",
    "        self.toppings = toppings\n",
    "        \n",
    "    @staticmethod\n",
    "    def validate_topping(topping):\n",
    "        if topping == 'pineapple':\n",
    "            raise ValueError('No pineapples!')\n",
    "        else:\n",
    "            return True\n",
    "\n",
    "ingredients = ['cheese', 'onions', 'salami']\n",
    "if all(Pizza.validate_topping(i) for i in ingredients):\n",
    "    pizza = Pizza(ingredients)"
   ]
  },
  {
   "cell_type": "markdown",
   "id": "valued-partner",
   "metadata": {},
   "source": [
    "Статические методы ведут себя как обычные функции, за исключением того факта, что вы можете вызывать их из экземпляра класса."
   ]
  },
  {
   "cell_type": "markdown",
   "id": "acute-development",
   "metadata": {},
   "source": [
    "## Свойства класса"
   ]
  },
  {
   "cell_type": "markdown",
   "id": "respected-distribution",
   "metadata": {},
   "source": [
    "Свойства предоставляют способ настройки доступа к атрибутам экземпляра.  \n",
    "Они создаются путем помещения декоратора `property` над методом, что означает, что при обращении к атрибуту экземпляра с тем же именем, что и у метода, вместо этого будет вызываться метод.  \n",
    "Один из распространенных способов использования свойства - сделать атрибут доступным только для чтения."
   ]
  },
  {
   "cell_type": "code",
   "execution_count": 18,
   "id": "crucial-bruce",
   "metadata": {},
   "outputs": [
    {
     "name": "stdout",
     "output_type": "stream",
     "text": [
      "False\n"
     ]
    },
    {
     "ename": "AttributeError",
     "evalue": "can't set attribute",
     "output_type": "error",
     "traceback": [
      "\u001b[0;31m---------------------------------------------------------------------------\u001b[0m",
      "\u001b[0;31mAttributeError\u001b[0m                            Traceback (most recent call last)",
      "\u001b[0;32m<ipython-input-18-ee13d1018b2d>\u001b[0m in \u001b[0;36m<module>\u001b[0;34m\u001b[0m\n\u001b[1;32m      9\u001b[0m \u001b[0mpizza\u001b[0m \u001b[0;34m=\u001b[0m \u001b[0mPizza\u001b[0m\u001b[0;34m(\u001b[0m\u001b[0;34m[\u001b[0m\u001b[0;34m'cheese'\u001b[0m\u001b[0;34m,\u001b[0m \u001b[0;34m'tomato'\u001b[0m\u001b[0;34m]\u001b[0m\u001b[0;34m)\u001b[0m\u001b[0;34m\u001b[0m\u001b[0;34m\u001b[0m\u001b[0m\n\u001b[1;32m     10\u001b[0m \u001b[0mprint\u001b[0m\u001b[0;34m(\u001b[0m\u001b[0mpizza\u001b[0m\u001b[0;34m.\u001b[0m\u001b[0mpineapple_allowed\u001b[0m\u001b[0;34m)\u001b[0m\u001b[0;34m\u001b[0m\u001b[0;34m\u001b[0m\u001b[0m\n\u001b[0;32m---> 11\u001b[0;31m \u001b[0mpizza\u001b[0m\u001b[0;34m.\u001b[0m\u001b[0mpineapple_allowed\u001b[0m \u001b[0;34m=\u001b[0m \u001b[0;32mTrue\u001b[0m\u001b[0;34m\u001b[0m\u001b[0;34m\u001b[0m\u001b[0m\n\u001b[0m",
      "\u001b[0;31mAttributeError\u001b[0m: can't set attribute"
     ]
    }
   ],
   "source": [
    "class Pizza:\n",
    "    def __init__(self, toppings):\n",
    "        self.toppings = toppings\n",
    "        \n",
    "    @property\n",
    "    def pineapple_allowed(self):\n",
    "        return False\n",
    "\n",
    "pizza = Pizza(['cheese', 'tomato'])\n",
    "print(pizza.pineapple_allowed)\n",
    "pizza.pineapple_allowed = True"
   ]
  },
  {
   "cell_type": "markdown",
   "id": "rolled-crawford",
   "metadata": {},
   "source": [
    "Свойства также могут быть установлены путем определения функций установки / получения.  \n",
    "**Сеттер** устанавливает значение соответствующего свойства.  \n",
    "**Геттер** получает значение.  \n",
    "Чтобы определить сеттер, вам нужно использовать декоратор с тем же именем, что и свойство, за которым следует точка и ключевое слово **setter**.  \n",
    "То же самое относится к определению геттера.  "
   ]
  },
  {
   "cell_type": "code",
   "execution_count": 19,
   "id": "early-revolution",
   "metadata": {},
   "outputs": [
    {
     "name": "stdout",
     "output_type": "stream",
     "text": [
      "False\n",
      "Enter the password: Sw0rdf1sh!\n",
      "True\n"
     ]
    }
   ],
   "source": [
    "class Pizza:\n",
    "    def __init__(self, toppings):\n",
    "        self.toppings = toppings\n",
    "        self._pineapple_allowed = False\n",
    "        \n",
    "    @property\n",
    "    def pineapple_allowed(self):\n",
    "        return self._pineapple_allowed\n",
    "    \n",
    "    @pineapple_allowed.setter\n",
    "    def pineapple_allowed(self, value):\n",
    "        if value:\n",
    "            password = input('Enter the password: ')\n",
    "            if password == 'Sw0rdf1sh!':\n",
    "                self._pineapple_allowed = value\n",
    "            else:\n",
    "                raise ValueError('Alert! Intruder!')\n",
    "\n",
    "pizza = Pizza(['cheese', 'tomato'])\n",
    "print(pizza.pineapple_allowed)\n",
    "pizza.pineapple_allowed = True\n",
    "print(pizza.pineapple_allowed)"
   ]
  }
 ],
 "metadata": {
  "kernelspec": {
   "display_name": "Python 3",
   "language": "python",
   "name": "python3"
  },
  "language_info": {
   "codemirror_mode": {
    "name": "ipython",
    "version": 3
   },
   "file_extension": ".py",
   "mimetype": "text/x-python",
   "name": "python",
   "nbconvert_exporter": "python",
   "pygments_lexer": "ipython3",
   "version": "3.8.2"
  }
 },
 "nbformat": 4,
 "nbformat_minor": 5
}
